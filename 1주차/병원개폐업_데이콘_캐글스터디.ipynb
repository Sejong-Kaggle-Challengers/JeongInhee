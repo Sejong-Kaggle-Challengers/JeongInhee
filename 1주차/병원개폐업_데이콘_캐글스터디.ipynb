{
  "nbformat": 4,
  "nbformat_minor": 0,
  "metadata": {
    "colab": {
      "name": "병원개폐업-데이콘_캐글스터디",
      "provenance": []
    },
    "kernelspec": {
      "name": "python3",
      "display_name": "Python 3"
    }
  },
  "cells": [
    {
      "cell_type": "code",
      "metadata": {
        "colab": {
          "base_uri": "https://localhost:8080/"
        },
        "id": "f6QRbWNQVwSv",
        "outputId": "73344a8f-a091-43dd-d35a-a2c7a272abf7"
      },
      "source": [
        "!unzip data02\\ \\(1\\).zip"
      ],
      "execution_count": null,
      "outputs": [
        {
          "output_type": "stream",
          "text": [
            "Archive:  data02 (1).zip\n",
            "  inflating: train.csv               \n",
            "  inflating: submission_sample.csv   \n",
            "  inflating: test.csv                \n"
          ],
          "name": "stdout"
        }
      ]
    },
    {
      "cell_type": "code",
      "metadata": {
        "id": "v6wxsUa_WQFh"
      },
      "source": [
        "import pandas as pd\r\n",
        "import numpy as np"
      ],
      "execution_count": null,
      "outputs": []
    },
    {
      "cell_type": "code",
      "metadata": {
        "id": "H4z7Ps51WT_q"
      },
      "source": [
        "train=pd.read_csv(\"train.csv\")\r\n",
        "test=pd.read_csv(\"test.csv\")"
      ],
      "execution_count": null,
      "outputs": []
    },
    {
      "cell_type": "markdown",
      "metadata": {
        "id": "YceIklIT5gbD"
      },
      "source": [
        "# train 데이터확인\r\n"
      ]
    },
    {
      "cell_type": "code",
      "metadata": {
        "colab": {
          "base_uri": "https://localhost:8080/"
        },
        "id": "4w5x3XF4W9bH",
        "outputId": "be746a0f-08cd-453b-8e2f-5e90ceada72d"
      },
      "source": [
        "train.info()\r\n",
        "print(train.isna().sum())"
      ],
      "execution_count": null,
      "outputs": [
        {
          "output_type": "stream",
          "text": [
            "<class 'pandas.core.frame.DataFrame'>\n",
            "RangeIndex: 301 entries, 0 to 300\n",
            "Data columns (total 58 columns):\n",
            " #   Column              Non-Null Count  Dtype  \n",
            "---  ------              --------------  -----  \n",
            " 0   inst_id             301 non-null    int64  \n",
            " 1   OC                  301 non-null    object \n",
            " 2   sido                301 non-null    object \n",
            " 3   sgg                 301 non-null    int64  \n",
            " 4   openDate            301 non-null    int64  \n",
            " 5   bedCount            296 non-null    float64\n",
            " 6   instkind            300 non-null    object \n",
            " 7   revenue1            293 non-null    float64\n",
            " 8   salescost1          293 non-null    float64\n",
            " 9   sga1                293 non-null    float64\n",
            " 10  salary1             293 non-null    float64\n",
            " 11  noi1                293 non-null    float64\n",
            " 12  noe1                293 non-null    float64\n",
            " 13  interest1           293 non-null    float64\n",
            " 14  ctax1               293 non-null    float64\n",
            " 15  profit1             293 non-null    float64\n",
            " 16  liquidAsset1        293 non-null    float64\n",
            " 17  quickAsset1         293 non-null    float64\n",
            " 18  receivableS1        293 non-null    float64\n",
            " 19  inventoryAsset1     293 non-null    float64\n",
            " 20  nonCAsset1          293 non-null    float64\n",
            " 21  tanAsset1           293 non-null    float64\n",
            " 22  OnonCAsset1         293 non-null    float64\n",
            " 23  receivableL1        293 non-null    float64\n",
            " 24  debt1               293 non-null    float64\n",
            " 25  liquidLiabilities1  293 non-null    float64\n",
            " 26  shortLoan1          293 non-null    float64\n",
            " 27  NCLiabilities1      293 non-null    float64\n",
            " 28  longLoan1           293 non-null    float64\n",
            " 29  netAsset1           293 non-null    float64\n",
            " 30  surplus1            293 non-null    float64\n",
            " 31  revenue2            293 non-null    float64\n",
            " 32  salescost2          293 non-null    float64\n",
            " 33  sga2                293 non-null    float64\n",
            " 34  salary2             293 non-null    float64\n",
            " 35  noi2                293 non-null    float64\n",
            " 36  noe2                293 non-null    float64\n",
            " 37  interest2           293 non-null    float64\n",
            " 38  ctax2               293 non-null    float64\n",
            " 39  profit2             293 non-null    float64\n",
            " 40  liquidAsset2        293 non-null    float64\n",
            " 41  quickAsset2         293 non-null    float64\n",
            " 42  receivableS2        293 non-null    float64\n",
            " 43  inventoryAsset2     293 non-null    float64\n",
            " 44  nonCAsset2          293 non-null    float64\n",
            " 45  tanAsset2           293 non-null    float64\n",
            " 46  OnonCAsset2         293 non-null    float64\n",
            " 47  receivableL2        293 non-null    float64\n",
            " 48  debt2               293 non-null    float64\n",
            " 49  liquidLiabilities2  293 non-null    float64\n",
            " 50  shortLoan2          293 non-null    float64\n",
            " 51  NCLiabilities2      293 non-null    float64\n",
            " 52  longLoan2           293 non-null    float64\n",
            " 53  netAsset2           293 non-null    float64\n",
            " 54  surplus2            293 non-null    float64\n",
            " 55  employee1           291 non-null    float64\n",
            " 56  employee2           288 non-null    float64\n",
            " 57  ownerChange         289 non-null    object \n",
            "dtypes: float64(51), int64(3), object(4)\n",
            "memory usage: 136.5+ KB\n",
            "inst_id                0\n",
            "OC                     0\n",
            "sido                   0\n",
            "sgg                    0\n",
            "openDate               0\n",
            "bedCount               5\n",
            "instkind               1\n",
            "revenue1               8\n",
            "salescost1             8\n",
            "sga1                   8\n",
            "salary1                8\n",
            "noi1                   8\n",
            "noe1                   8\n",
            "interest1              8\n",
            "ctax1                  8\n",
            "profit1                8\n",
            "liquidAsset1           8\n",
            "quickAsset1            8\n",
            "receivableS1           8\n",
            "inventoryAsset1        8\n",
            "nonCAsset1             8\n",
            "tanAsset1              8\n",
            "OnonCAsset1            8\n",
            "receivableL1           8\n",
            "debt1                  8\n",
            "liquidLiabilities1     8\n",
            "shortLoan1             8\n",
            "NCLiabilities1         8\n",
            "longLoan1              8\n",
            "netAsset1              8\n",
            "surplus1               8\n",
            "revenue2               8\n",
            "salescost2             8\n",
            "sga2                   8\n",
            "salary2                8\n",
            "noi2                   8\n",
            "noe2                   8\n",
            "interest2              8\n",
            "ctax2                  8\n",
            "profit2                8\n",
            "liquidAsset2           8\n",
            "quickAsset2            8\n",
            "receivableS2           8\n",
            "inventoryAsset2        8\n",
            "nonCAsset2             8\n",
            "tanAsset2              8\n",
            "OnonCAsset2            8\n",
            "receivableL2           8\n",
            "debt2                  8\n",
            "liquidLiabilities2     8\n",
            "shortLoan2             8\n",
            "NCLiabilities2         8\n",
            "longLoan2              8\n",
            "netAsset2              8\n",
            "surplus2               8\n",
            "employee1             10\n",
            "employee2             13\n",
            "ownerChange           12\n",
            "dtype: int64\n"
          ],
          "name": "stdout"
        }
      ]
    },
    {
      "cell_type": "markdown",
      "metadata": {
        "id": "3V3yUeFC5mxA"
      },
      "source": [
        "# test 데이터 확인"
      ]
    },
    {
      "cell_type": "code",
      "metadata": {
        "colab": {
          "base_uri": "https://localhost:8080/"
        },
        "id": "Zx4L09xPXctC",
        "outputId": "d634769c-6f5b-4e69-e419-d199a4bd3489"
      },
      "source": [
        "test.info()\r\n",
        "print(test.isna().sum())"
      ],
      "execution_count": null,
      "outputs": [
        {
          "output_type": "stream",
          "text": [
            "<class 'pandas.core.frame.DataFrame'>\n",
            "RangeIndex: 127 entries, 0 to 126\n",
            "Data columns (total 58 columns):\n",
            " #   Column              Non-Null Count  Dtype  \n",
            "---  ------              --------------  -----  \n",
            " 0   inst_id             127 non-null    int64  \n",
            " 1   OC                  0 non-null      float64\n",
            " 2   sido                127 non-null    object \n",
            " 3   sgg                 127 non-null    int64  \n",
            " 4   openDate            126 non-null    float64\n",
            " 5   bedCount            119 non-null    float64\n",
            " 6   instkind            125 non-null    object \n",
            " 7   revenue1            125 non-null    float64\n",
            " 8   salescost1          125 non-null    float64\n",
            " 9   sga1                125 non-null    float64\n",
            " 10  salary1             125 non-null    float64\n",
            " 11  noi1                125 non-null    float64\n",
            " 12  noe1                125 non-null    float64\n",
            " 13  interest1           125 non-null    float64\n",
            " 14  ctax1               125 non-null    float64\n",
            " 15  profit1             125 non-null    float64\n",
            " 16  liquidAsset1        125 non-null    float64\n",
            " 17  quickAsset1         125 non-null    float64\n",
            " 18  receivableS1        125 non-null    float64\n",
            " 19  inventoryAsset1     125 non-null    float64\n",
            " 20  nonCAsset1          125 non-null    float64\n",
            " 21  tanAsset1           125 non-null    float64\n",
            " 22  OnonCAsset1         125 non-null    float64\n",
            " 23  receivableL1        125 non-null    float64\n",
            " 24  debt1               125 non-null    float64\n",
            " 25  liquidLiabilities1  125 non-null    float64\n",
            " 26  shortLoan1          125 non-null    float64\n",
            " 27  NCLiabilities1      125 non-null    float64\n",
            " 28  longLoan1           125 non-null    float64\n",
            " 29  netAsset1           125 non-null    float64\n",
            " 30  surplus1            125 non-null    float64\n",
            " 31  revenue2            125 non-null    float64\n",
            " 32  salescost2          125 non-null    float64\n",
            " 33  sga2                125 non-null    float64\n",
            " 34  salary2             125 non-null    float64\n",
            " 35  noi2                125 non-null    float64\n",
            " 36  noe2                125 non-null    float64\n",
            " 37  interest2           125 non-null    float64\n",
            " 38  ctax2               125 non-null    float64\n",
            " 39  profit2             125 non-null    float64\n",
            " 40  liquidAsset2        125 non-null    float64\n",
            " 41  quickAsset2         125 non-null    float64\n",
            " 42  receivableS2        125 non-null    float64\n",
            " 43  inventoryAsset2     125 non-null    float64\n",
            " 44  nonCAsset2          125 non-null    float64\n",
            " 45  tanAsset2           125 non-null    float64\n",
            " 46  OnonCAsset2         125 non-null    float64\n",
            " 47  receivableL2        125 non-null    float64\n",
            " 48  debt2               125 non-null    float64\n",
            " 49  liquidLiabilities2  125 non-null    float64\n",
            " 50  shortLoan2          125 non-null    float64\n",
            " 51  NCLiabilities2      125 non-null    float64\n",
            " 52  longLoan2           125 non-null    float64\n",
            " 53  netAsset2           125 non-null    float64\n",
            " 54  surplus2            125 non-null    float64\n",
            " 55  employee1           119 non-null    object \n",
            " 56  employee2           112 non-null    object \n",
            " 57  ownerChange         112 non-null    object \n",
            "dtypes: float64(51), int64(2), object(5)\n",
            "memory usage: 57.7+ KB\n",
            "inst_id                 0\n",
            "OC                    127\n",
            "sido                    0\n",
            "sgg                     0\n",
            "openDate                1\n",
            "bedCount                8\n",
            "instkind                2\n",
            "revenue1                2\n",
            "salescost1              2\n",
            "sga1                    2\n",
            "salary1                 2\n",
            "noi1                    2\n",
            "noe1                    2\n",
            "interest1               2\n",
            "ctax1                   2\n",
            "profit1                 2\n",
            "liquidAsset1            2\n",
            "quickAsset1             2\n",
            "receivableS1            2\n",
            "inventoryAsset1         2\n",
            "nonCAsset1              2\n",
            "tanAsset1               2\n",
            "OnonCAsset1             2\n",
            "receivableL1            2\n",
            "debt1                   2\n",
            "liquidLiabilities1      2\n",
            "shortLoan1              2\n",
            "NCLiabilities1          2\n",
            "longLoan1               2\n",
            "netAsset1               2\n",
            "surplus1                2\n",
            "revenue2                2\n",
            "salescost2              2\n",
            "sga2                    2\n",
            "salary2                 2\n",
            "noi2                    2\n",
            "noe2                    2\n",
            "interest2               2\n",
            "ctax2                   2\n",
            "profit2                 2\n",
            "liquidAsset2            2\n",
            "quickAsset2             2\n",
            "receivableS2            2\n",
            "inventoryAsset2         2\n",
            "nonCAsset2              2\n",
            "tanAsset2               2\n",
            "OnonCAsset2             2\n",
            "receivableL2            2\n",
            "debt2                   2\n",
            "liquidLiabilities2      2\n",
            "shortLoan2              2\n",
            "NCLiabilities2          2\n",
            "longLoan2               2\n",
            "netAsset2               2\n",
            "surplus2                2\n",
            "employee1               8\n",
            "employee2              15\n",
            "ownerChange            15\n",
            "dtype: int64\n"
          ],
          "name": "stdout"
        }
      ]
    },
    {
      "cell_type": "code",
      "metadata": {
        "colab": {
          "base_uri": "https://localhost:8080/"
        },
        "id": "kPEW8wCmZNRD",
        "outputId": "b7daa8ab-738f-487a-a6f0-840b2ad442b2"
      },
      "source": [
        "str_train=train.select_dtypes(include='object').columns\r\n",
        "str_test=test.select_dtypes(include='object').columns\r\n",
        "print(str_train)\r\n",
        "print(str_test)"
      ],
      "execution_count": null,
      "outputs": [
        {
          "output_type": "stream",
          "text": [
            "Index(['OC', 'sido', 'instkind', 'ownerChange'], dtype='object')\n",
            "Index(['sido', 'instkind', 'employee1', 'employee2', 'ownerChange'], dtype='object')\n"
          ],
          "name": "stdout"
        }
      ]
    },
    {
      "cell_type": "markdown",
      "metadata": {
        "id": "opHk82255xZa"
      },
      "source": [
        "## test 데이터의  employee1, employee2 를 folat형으로 변환"
      ]
    },
    {
      "cell_type": "code",
      "metadata": {
        "id": "4GlNnAbacsuZ"
      },
      "source": [
        "test['employee1']=test['employee1'].fillna(-9999)\r\n",
        "test['employee2']=test['employee2'].fillna(-9999)"
      ],
      "execution_count": null,
      "outputs": []
    },
    {
      "cell_type": "code",
      "metadata": {
        "id": "RRQMt3yydRDR"
      },
      "source": [
        "test['employee1']= test['employee1'].astype('str').str.replace(\",\",\"\")\r\n",
        "test['employee2']= test['employee2'].astype('str').str.replace(\",\",\"\")"
      ],
      "execution_count": null,
      "outputs": []
    },
    {
      "cell_type": "code",
      "metadata": {
        "id": "NjyVOzV7c-RA"
      },
      "source": [
        "test['employee1']=test['employee1'].astype(float)\r\n",
        "test['employee2']=test['employee2'].astype(float)"
      ],
      "execution_count": null,
      "outputs": []
    },
    {
      "cell_type": "code",
      "metadata": {
        "colab": {
          "base_uri": "https://localhost:8080/"
        },
        "id": "yPjR4D6CeOKo",
        "outputId": "dac44f97-9485-46eb-ea4f-57e013ab0976"
      },
      "source": [
        "str_train=train.select_dtypes(include='object').columns\r\n",
        "str_test=test.select_dtypes(include='object').columns\r\n",
        "print(str_train)\r\n",
        "print(str_test)"
      ],
      "execution_count": null,
      "outputs": [
        {
          "output_type": "stream",
          "text": [
            "Index(['OC', 'sido', 'instkind', 'ownerChange'], dtype='object')\n",
            "Index(['sido', 'instkind', 'ownerChange'], dtype='object')\n"
          ],
          "name": "stdout"
        }
      ]
    },
    {
      "cell_type": "code",
      "metadata": {
        "id": "23T3dQqRZtvz"
      },
      "source": [
        "from sklearn.preprocessing import LabelEncoder\r\n",
        "encoder=LabelEncoder()"
      ],
      "execution_count": null,
      "outputs": []
    },
    {
      "cell_type": "code",
      "metadata": {
        "id": "Hw6Wrd_bZ_p_"
      },
      "source": [
        "train[str_train]=train[str_train].fillna(\"Notsure\")\r\n",
        "test[str_test]=test[str_test].fillna(\"Notsure\")"
      ],
      "execution_count": null,
      "outputs": []
    },
    {
      "cell_type": "code",
      "metadata": {
        "colab": {
          "base_uri": "https://localhost:8080/"
        },
        "id": "ijhVkgKXbiof",
        "outputId": "f045dfcc-939a-466b-c6f2-705bae896a2c"
      },
      "source": [
        "number_train=train.columns.difference(str_train)\r\n",
        "number_test=test.columns.difference(str_test)\r\n",
        "print(number_train)\r\n",
        "print(number_test)"
      ],
      "execution_count": null,
      "outputs": [
        {
          "output_type": "stream",
          "text": [
            "Index(['NCLiabilities1', 'NCLiabilities2', 'OnonCAsset1', 'OnonCAsset2',\n",
            "       'bedCount', 'ctax1', 'ctax2', 'debt1', 'debt2', 'employee1',\n",
            "       'employee2', 'inst_id', 'interest1', 'interest2', 'inventoryAsset1',\n",
            "       'inventoryAsset2', 'liquidAsset1', 'liquidAsset2', 'liquidLiabilities1',\n",
            "       'liquidLiabilities2', 'longLoan1', 'longLoan2', 'netAsset1',\n",
            "       'netAsset2', 'noe1', 'noe2', 'noi1', 'noi2', 'nonCAsset1', 'nonCAsset2',\n",
            "       'openDate', 'profit1', 'profit2', 'quickAsset1', 'quickAsset2',\n",
            "       'receivableL1', 'receivableL2', 'receivableS1', 'receivableS2',\n",
            "       'revenue1', 'revenue2', 'salary1', 'salary2', 'salescost1',\n",
            "       'salescost2', 'sga1', 'sga2', 'sgg', 'shortLoan1', 'shortLoan2',\n",
            "       'surplus1', 'surplus2', 'tanAsset1', 'tanAsset2'],\n",
            "      dtype='object')\n",
            "Index(['NCLiabilities1', 'NCLiabilities2', 'OC', 'OnonCAsset1', 'OnonCAsset2',\n",
            "       'bedCount', 'ctax1', 'ctax2', 'debt1', 'debt2', 'employee1',\n",
            "       'employee2', 'inst_id', 'interest1', 'interest2', 'inventoryAsset1',\n",
            "       'inventoryAsset2', 'liquidAsset1', 'liquidAsset2', 'liquidLiabilities1',\n",
            "       'liquidLiabilities2', 'longLoan1', 'longLoan2', 'netAsset1',\n",
            "       'netAsset2', 'noe1', 'noe2', 'noi1', 'noi2', 'nonCAsset1', 'nonCAsset2',\n",
            "       'openDate', 'profit1', 'profit2', 'quickAsset1', 'quickAsset2',\n",
            "       'receivableL1', 'receivableL2', 'receivableS1', 'receivableS2',\n",
            "       'revenue1', 'revenue2', 'salary1', 'salary2', 'salescost1',\n",
            "       'salescost2', 'sga1', 'sga2', 'sgg', 'shortLoan1', 'shortLoan2',\n",
            "       'surplus1', 'surplus2', 'tanAsset1', 'tanAsset2'],\n",
            "      dtype='object')\n"
          ],
          "name": "stdout"
        }
      ]
    },
    {
      "cell_type": "code",
      "metadata": {
        "id": "oG4XvkxhjTX9"
      },
      "source": [
        "train[number_train]=train[number_train].fillna(-9999)\r\n",
        "test[number_test]=test[number_test].fillna(-9999)"
      ],
      "execution_count": null,
      "outputs": []
    },
    {
      "cell_type": "code",
      "metadata": {
        "id": "8pDW_CBIadvq"
      },
      "source": [
        "train['OC']=encoder.fit_transform(train['OC'])\r\n",
        "train['sido']=encoder.fit_transform(train['sido'])\r\n",
        "train['instkind']=encoder.fit_transform(train['instkind'])\r\n",
        "train['ownerChange']=encoder.fit_transform(train['ownerChange'])"
      ],
      "execution_count": null,
      "outputs": []
    },
    {
      "cell_type": "code",
      "metadata": {
        "id": "04QvjGhvfF1l"
      },
      "source": [
        "test['sido']=encoder.fit_transform(test['sido'])\r\n",
        "test['instkind']=encoder.fit_transform(test['instkind'])\r\n",
        "test['ownerChange']=encoder.fit_transform(test['ownerChange'])"
      ],
      "execution_count": null,
      "outputs": []
    },
    {
      "cell_type": "code",
      "metadata": {
        "colab": {
          "base_uri": "https://localhost:8080/"
        },
        "id": "Hw-C28V2f9Q1",
        "outputId": "920e736c-5107-48ad-9bad-8fe809555bc5"
      },
      "source": [
        "test['OC']"
      ],
      "execution_count": null,
      "outputs": [
        {
          "output_type": "execute_result",
          "data": {
            "text/plain": [
              "0     -9999.0\n",
              "1     -9999.0\n",
              "2     -9999.0\n",
              "3     -9999.0\n",
              "4     -9999.0\n",
              "        ...  \n",
              "122   -9999.0\n",
              "123   -9999.0\n",
              "124   -9999.0\n",
              "125   -9999.0\n",
              "126   -9999.0\n",
              "Name: OC, Length: 127, dtype: float64"
            ]
          },
          "metadata": {
            "tags": []
          },
          "execution_count": 109
        }
      ]
    },
    {
      "cell_type": "code",
      "metadata": {
        "id": "cEHU8DfyfthE"
      },
      "source": [
        "test=test.drop(labels='OC',axis=1)"
      ],
      "execution_count": null,
      "outputs": []
    },
    {
      "cell_type": "code",
      "metadata": {
        "id": "89CXB5mLhZ6H"
      },
      "source": [
        "x_train=train.drop(labels='OC',axis=1)\r\n",
        "y_train=train['OC']\r\n",
        "x_test=test"
      ],
      "execution_count": null,
      "outputs": []
    },
    {
      "cell_type": "code",
      "metadata": {
        "id": "KsWirc-shV8f"
      },
      "source": [
        "from sklearn.preprocessing import StandardScaler\r\n",
        "scaler=StandardScaler()\r\n",
        "\r\n",
        "x_train_std=scaler.fit_transform(x_train)\r\n",
        "x_test_std=scaler.fit_transform(x_test)"
      ],
      "execution_count": null,
      "outputs": []
    },
    {
      "cell_type": "code",
      "metadata": {
        "id": "fEtnqDvygG8T"
      },
      "source": [
        "from sklearn.svm import SVC\r\n",
        "from sklearn.model_selection import GridSearchCV\r\n",
        "\r\n",
        "from sklearn.ensemble import AdaBoostClassifier\r\n",
        "from sklearn.ensemble import RandomForestClassifier\r\n",
        "from sklearn.tree import DecisionTreeClassifier\r\n",
        "\r\n",
        "svm=SVC(random_state=1)\r\n",
        "tree=DecisionTreeClassifier(criterion='entropy',random_state=1)"
      ],
      "execution_count": null,
      "outputs": []
    },
    {
      "cell_type": "code",
      "metadata": {
        "colab": {
          "base_uri": "https://localhost:8080/"
        },
        "id": "Z0KZa7dcjMJj",
        "outputId": "fa2144a3-7726-4cf3-8799-d5406bfecc8a"
      },
      "source": [
        "x_train.isna().sum()"
      ],
      "execution_count": null,
      "outputs": [
        {
          "output_type": "execute_result",
          "data": {
            "text/plain": [
              "inst_id               0\n",
              "sido                  0\n",
              "sgg                   0\n",
              "openDate              0\n",
              "bedCount              0\n",
              "instkind              0\n",
              "revenue1              0\n",
              "salescost1            0\n",
              "sga1                  0\n",
              "salary1               0\n",
              "noi1                  0\n",
              "noe1                  0\n",
              "interest1             0\n",
              "ctax1                 0\n",
              "profit1               0\n",
              "liquidAsset1          0\n",
              "quickAsset1           0\n",
              "receivableS1          0\n",
              "inventoryAsset1       0\n",
              "nonCAsset1            0\n",
              "tanAsset1             0\n",
              "OnonCAsset1           0\n",
              "receivableL1          0\n",
              "debt1                 0\n",
              "liquidLiabilities1    0\n",
              "shortLoan1            0\n",
              "NCLiabilities1        0\n",
              "longLoan1             0\n",
              "netAsset1             0\n",
              "surplus1              0\n",
              "revenue2              0\n",
              "salescost2            0\n",
              "sga2                  0\n",
              "salary2               0\n",
              "noi2                  0\n",
              "noe2                  0\n",
              "interest2             0\n",
              "ctax2                 0\n",
              "profit2               0\n",
              "liquidAsset2          0\n",
              "quickAsset2           0\n",
              "receivableS2          0\n",
              "inventoryAsset2       0\n",
              "nonCAsset2            0\n",
              "tanAsset2             0\n",
              "OnonCAsset2           0\n",
              "receivableL2          0\n",
              "debt2                 0\n",
              "liquidLiabilities2    0\n",
              "shortLoan2            0\n",
              "NCLiabilities2        0\n",
              "longLoan2             0\n",
              "netAsset2             0\n",
              "surplus2              0\n",
              "employee1             0\n",
              "employee2             0\n",
              "ownerChange           0\n",
              "dtype: int64"
            ]
          },
          "metadata": {
            "tags": []
          },
          "execution_count": 114
        }
      ]
    },
    {
      "cell_type": "markdown",
      "metadata": {
        "id": "7a9vdjTdlza7"
      },
      "source": [
        "# randomforest"
      ]
    },
    {
      "cell_type": "code",
      "metadata": {
        "colab": {
          "base_uri": "https://localhost:8080/"
        },
        "id": "fOSGAPVpl3MZ",
        "outputId": "973bbf74-2cae-4f4d-e560-e175173b63da"
      },
      "source": [
        "randomforest=RandomForestClassifier(random_state=1)\r\n",
        "print(randomforest.get_params().keys())\r\n",
        "params_randomforest={'max_depth':[5,7,9,11],\r\n",
        "                 'n_estimators':[100,500,700],\r\n",
        "                 }\r\n",
        "\r\n",
        "\r\n",
        "grid_randomforest=GridSearchCV(estimator=randomforest,\r\n",
        "                           param_grid=params_randomforest,\r\n",
        "                           cv=10,\r\n",
        "                           scoring='accuracy')\r\n",
        "\r\n",
        "grid_randomforest.fit(x_train_std,y_train)"
      ],
      "execution_count": null,
      "outputs": [
        {
          "output_type": "stream",
          "text": [
            "dict_keys(['bootstrap', 'ccp_alpha', 'class_weight', 'criterion', 'max_depth', 'max_features', 'max_leaf_nodes', 'max_samples', 'min_impurity_decrease', 'min_impurity_split', 'min_samples_leaf', 'min_samples_split', 'min_weight_fraction_leaf', 'n_estimators', 'n_jobs', 'oob_score', 'random_state', 'verbose', 'warm_start'])\n"
          ],
          "name": "stdout"
        },
        {
          "output_type": "execute_result",
          "data": {
            "text/plain": [
              "GridSearchCV(cv=10, error_score=nan,\n",
              "             estimator=RandomForestClassifier(bootstrap=True, ccp_alpha=0.0,\n",
              "                                              class_weight=None,\n",
              "                                              criterion='gini', max_depth=None,\n",
              "                                              max_features='auto',\n",
              "                                              max_leaf_nodes=None,\n",
              "                                              max_samples=None,\n",
              "                                              min_impurity_decrease=0.0,\n",
              "                                              min_impurity_split=None,\n",
              "                                              min_samples_leaf=1,\n",
              "                                              min_samples_split=2,\n",
              "                                              min_weight_fraction_leaf=0.0,\n",
              "                                              n_estimators=100, n_jobs=None,\n",
              "                                              oob_score=False, random_state=1,\n",
              "                                              verbose=0, warm_start=False),\n",
              "             iid='deprecated', n_jobs=None,\n",
              "             param_grid={'max_depth': [5, 7, 9, 11],\n",
              "                         'n_estimators': [100, 500, 700]},\n",
              "             pre_dispatch='2*n_jobs', refit=True, return_train_score=False,\n",
              "             scoring='accuracy', verbose=0)"
            ]
          },
          "metadata": {
            "tags": []
          },
          "execution_count": 124
        }
      ]
    },
    {
      "cell_type": "code",
      "metadata": {
        "colab": {
          "base_uri": "https://localhost:8080/"
        },
        "id": "5E_aM_gTmeXs",
        "outputId": "4a72c674-b194-4bbf-f843-3995883bd1d8"
      },
      "source": [
        "predict=grid_randomforest.predict(x_test_std)\r\n",
        "predict"
      ],
      "execution_count": null,
      "outputs": [
        {
          "output_type": "execute_result",
          "data": {
            "text/plain": [
              "array([1, 1, 1, 1, 1, 1, 1, 1, 1, 1, 1, 1, 1, 1, 1, 1, 1, 1, 1, 1, 1, 1,\n",
              "       1, 1, 1, 1, 1, 1, 1, 1, 1, 1, 1, 1, 1, 1, 1, 1, 1, 1, 1, 1, 1, 1,\n",
              "       1, 1, 1, 1, 1, 1, 1, 1, 1, 1, 1, 1, 1, 1, 1, 1, 1, 1, 1, 1, 1, 1,\n",
              "       1, 1, 1, 1, 1, 1, 1, 1, 1, 1, 1, 1, 1, 1, 1, 1, 1, 1, 1, 1, 1, 1,\n",
              "       1, 1, 1, 1, 1, 1, 1, 1, 1, 1, 1, 1, 1, 1, 1, 1, 1, 1, 1, 1, 1, 1,\n",
              "       1, 1, 1, 1, 1, 1, 1, 1, 1, 1, 1, 1, 1, 1, 1, 1, 1])"
            ]
          },
          "metadata": {
            "tags": []
          },
          "execution_count": 125
        }
      ]
    },
    {
      "cell_type": "code",
      "metadata": {
        "colab": {
          "base_uri": "https://localhost:8080/",
          "height": 402
        },
        "id": "ytxxAyKPk0za",
        "outputId": "8a51ce04-1b27-43f1-c688-06df38bf10cb"
      },
      "source": [
        "result=pd.read_csv(\"submission_sample.csv\")\r\n",
        "\r\n",
        "for i in range(len(result)):\r\n",
        "  result['OC']=predict\r\n",
        "result"
      ],
      "execution_count": null,
      "outputs": [
        {
          "output_type": "execute_result",
          "data": {
            "text/html": [
              "<div>\n",
              "<style scoped>\n",
              "    .dataframe tbody tr th:only-of-type {\n",
              "        vertical-align: middle;\n",
              "    }\n",
              "\n",
              "    .dataframe tbody tr th {\n",
              "        vertical-align: top;\n",
              "    }\n",
              "\n",
              "    .dataframe thead th {\n",
              "        text-align: right;\n",
              "    }\n",
              "</style>\n",
              "<table border=\"1\" class=\"dataframe\">\n",
              "  <thead>\n",
              "    <tr style=\"text-align: right;\">\n",
              "      <th></th>\n",
              "      <th>inst_id</th>\n",
              "      <th>OC</th>\n",
              "    </tr>\n",
              "  </thead>\n",
              "  <tbody>\n",
              "    <tr>\n",
              "      <th>0</th>\n",
              "      <td>2</td>\n",
              "      <td>1</td>\n",
              "    </tr>\n",
              "    <tr>\n",
              "      <th>1</th>\n",
              "      <td>5</td>\n",
              "      <td>1</td>\n",
              "    </tr>\n",
              "    <tr>\n",
              "      <th>2</th>\n",
              "      <td>6</td>\n",
              "      <td>1</td>\n",
              "    </tr>\n",
              "    <tr>\n",
              "      <th>3</th>\n",
              "      <td>8</td>\n",
              "      <td>1</td>\n",
              "    </tr>\n",
              "    <tr>\n",
              "      <th>4</th>\n",
              "      <td>10</td>\n",
              "      <td>1</td>\n",
              "    </tr>\n",
              "    <tr>\n",
              "      <th>...</th>\n",
              "      <td>...</td>\n",
              "      <td>...</td>\n",
              "    </tr>\n",
              "    <tr>\n",
              "      <th>122</th>\n",
              "      <td>424</td>\n",
              "      <td>1</td>\n",
              "    </tr>\n",
              "    <tr>\n",
              "      <th>123</th>\n",
              "      <td>425</td>\n",
              "      <td>1</td>\n",
              "    </tr>\n",
              "    <tr>\n",
              "      <th>124</th>\n",
              "      <td>429</td>\n",
              "      <td>1</td>\n",
              "    </tr>\n",
              "    <tr>\n",
              "      <th>125</th>\n",
              "      <td>430</td>\n",
              "      <td>1</td>\n",
              "    </tr>\n",
              "    <tr>\n",
              "      <th>126</th>\n",
              "      <td>431</td>\n",
              "      <td>1</td>\n",
              "    </tr>\n",
              "  </tbody>\n",
              "</table>\n",
              "<p>127 rows × 2 columns</p>\n",
              "</div>"
            ],
            "text/plain": [
              "     inst_id  OC\n",
              "0          2   1\n",
              "1          5   1\n",
              "2          6   1\n",
              "3          8   1\n",
              "4         10   1\n",
              "..       ...  ..\n",
              "122      424   1\n",
              "123      425   1\n",
              "124      429   1\n",
              "125      430   1\n",
              "126      431   1\n",
              "\n",
              "[127 rows x 2 columns]"
            ]
          },
          "metadata": {
            "tags": []
          },
          "execution_count": 126
        }
      ]
    },
    {
      "cell_type": "code",
      "metadata": {
        "id": "uu2PUt2VlK00"
      },
      "source": [
        "result.to_csv(\"result.csv\",index=False)"
      ],
      "execution_count": null,
      "outputs": []
    }
  ]
}