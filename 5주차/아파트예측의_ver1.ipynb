{
  "nbformat": 4,
  "nbformat_minor": 0,
  "metadata": {
    "colab": {
      "name": "아파트예측의 사본",
      "provenance": [],
      "collapsed_sections": []
    },
    "kernelspec": {
      "display_name": "Python 3",
      "name": "python3"
    },
    "widgets": {
      "application/vnd.jupyter.widget-state+json": {
        "1c5dd4ab9a1640f3bdbb211f2679dbba": {
          "model_module": "@jupyter-widgets/controls",
          "model_name": "HBoxModel",
          "state": {
            "_view_name": "HBoxView",
            "_dom_classes": [],
            "_model_name": "HBoxModel",
            "_view_module": "@jupyter-widgets/controls",
            "_model_module_version": "1.5.0",
            "_view_count": null,
            "_view_module_version": "1.5.0",
            "box_style": "",
            "layout": "IPY_MODEL_bef95a21829c405e86ccfbd77720e028",
            "_model_module": "@jupyter-widgets/controls",
            "children": [
              "IPY_MODEL_46164a214326423cae633acc2259146e",
              "IPY_MODEL_9ef70b3923b44b38bc73c8e5a5681cc9"
            ]
          }
        },
        "bef95a21829c405e86ccfbd77720e028": {
          "model_module": "@jupyter-widgets/base",
          "model_name": "LayoutModel",
          "state": {
            "_view_name": "LayoutView",
            "grid_template_rows": null,
            "right": null,
            "justify_content": null,
            "_view_module": "@jupyter-widgets/base",
            "overflow": null,
            "_model_module_version": "1.2.0",
            "_view_count": null,
            "flex_flow": null,
            "width": null,
            "min_width": null,
            "border": null,
            "align_items": null,
            "bottom": null,
            "_model_module": "@jupyter-widgets/base",
            "top": null,
            "grid_column": null,
            "overflow_y": null,
            "overflow_x": null,
            "grid_auto_flow": null,
            "grid_area": null,
            "grid_template_columns": null,
            "flex": null,
            "_model_name": "LayoutModel",
            "justify_items": null,
            "grid_row": null,
            "max_height": null,
            "align_content": null,
            "visibility": null,
            "align_self": null,
            "height": null,
            "min_height": null,
            "padding": null,
            "grid_auto_rows": null,
            "grid_gap": null,
            "max_width": null,
            "order": null,
            "_view_module_version": "1.2.0",
            "grid_template_areas": null,
            "object_position": null,
            "object_fit": null,
            "grid_auto_columns": null,
            "margin": null,
            "display": null,
            "left": null
          }
        },
        "46164a214326423cae633acc2259146e": {
          "model_module": "@jupyter-widgets/controls",
          "model_name": "FloatProgressModel",
          "state": {
            "_view_name": "ProgressView",
            "style": "IPY_MODEL_7f2f5f80233845b0a734ac4cdd23849f",
            "_dom_classes": [],
            "description": "100%",
            "_model_name": "FloatProgressModel",
            "bar_style": "success",
            "max": 1933,
            "_view_module": "@jupyter-widgets/controls",
            "_model_module_version": "1.5.0",
            "value": 1933,
            "_view_count": null,
            "_view_module_version": "1.5.0",
            "orientation": "horizontal",
            "min": 0,
            "description_tooltip": null,
            "_model_module": "@jupyter-widgets/controls",
            "layout": "IPY_MODEL_e3dbd7a7dc234e67a28b8e754672a98f"
          }
        },
        "9ef70b3923b44b38bc73c8e5a5681cc9": {
          "model_module": "@jupyter-widgets/controls",
          "model_name": "HTMLModel",
          "state": {
            "_view_name": "HTMLView",
            "style": "IPY_MODEL_5da02cef2e864c58b59776d26fb1cd86",
            "_dom_classes": [],
            "description": "",
            "_model_name": "HTMLModel",
            "placeholder": "​",
            "_view_module": "@jupyter-widgets/controls",
            "_model_module_version": "1.5.0",
            "value": " 1933/1933 [00:39&lt;00:00, 48.82it/s]",
            "_view_count": null,
            "_view_module_version": "1.5.0",
            "description_tooltip": null,
            "_model_module": "@jupyter-widgets/controls",
            "layout": "IPY_MODEL_a97995b86b2541d4a04bbbd49f75aa4b"
          }
        },
        "7f2f5f80233845b0a734ac4cdd23849f": {
          "model_module": "@jupyter-widgets/controls",
          "model_name": "ProgressStyleModel",
          "state": {
            "_view_name": "StyleView",
            "_model_name": "ProgressStyleModel",
            "description_width": "initial",
            "_view_module": "@jupyter-widgets/base",
            "_model_module_version": "1.5.0",
            "_view_count": null,
            "_view_module_version": "1.2.0",
            "bar_color": null,
            "_model_module": "@jupyter-widgets/controls"
          }
        },
        "e3dbd7a7dc234e67a28b8e754672a98f": {
          "model_module": "@jupyter-widgets/base",
          "model_name": "LayoutModel",
          "state": {
            "_view_name": "LayoutView",
            "grid_template_rows": null,
            "right": null,
            "justify_content": null,
            "_view_module": "@jupyter-widgets/base",
            "overflow": null,
            "_model_module_version": "1.2.0",
            "_view_count": null,
            "flex_flow": null,
            "width": null,
            "min_width": null,
            "border": null,
            "align_items": null,
            "bottom": null,
            "_model_module": "@jupyter-widgets/base",
            "top": null,
            "grid_column": null,
            "overflow_y": null,
            "overflow_x": null,
            "grid_auto_flow": null,
            "grid_area": null,
            "grid_template_columns": null,
            "flex": null,
            "_model_name": "LayoutModel",
            "justify_items": null,
            "grid_row": null,
            "max_height": null,
            "align_content": null,
            "visibility": null,
            "align_self": null,
            "height": null,
            "min_height": null,
            "padding": null,
            "grid_auto_rows": null,
            "grid_gap": null,
            "max_width": null,
            "order": null,
            "_view_module_version": "1.2.0",
            "grid_template_areas": null,
            "object_position": null,
            "object_fit": null,
            "grid_auto_columns": null,
            "margin": null,
            "display": null,
            "left": null
          }
        },
        "5da02cef2e864c58b59776d26fb1cd86": {
          "model_module": "@jupyter-widgets/controls",
          "model_name": "DescriptionStyleModel",
          "state": {
            "_view_name": "StyleView",
            "_model_name": "DescriptionStyleModel",
            "description_width": "",
            "_view_module": "@jupyter-widgets/base",
            "_model_module_version": "1.5.0",
            "_view_count": null,
            "_view_module_version": "1.2.0",
            "_model_module": "@jupyter-widgets/controls"
          }
        },
        "a97995b86b2541d4a04bbbd49f75aa4b": {
          "model_module": "@jupyter-widgets/base",
          "model_name": "LayoutModel",
          "state": {
            "_view_name": "LayoutView",
            "grid_template_rows": null,
            "right": null,
            "justify_content": null,
            "_view_module": "@jupyter-widgets/base",
            "overflow": null,
            "_model_module_version": "1.2.0",
            "_view_count": null,
            "flex_flow": null,
            "width": null,
            "min_width": null,
            "border": null,
            "align_items": null,
            "bottom": null,
            "_model_module": "@jupyter-widgets/base",
            "top": null,
            "grid_column": null,
            "overflow_y": null,
            "overflow_x": null,
            "grid_auto_flow": null,
            "grid_area": null,
            "grid_template_columns": null,
            "flex": null,
            "_model_name": "LayoutModel",
            "justify_items": null,
            "grid_row": null,
            "max_height": null,
            "align_content": null,
            "visibility": null,
            "align_self": null,
            "height": null,
            "min_height": null,
            "padding": null,
            "grid_auto_rows": null,
            "grid_gap": null,
            "max_width": null,
            "order": null,
            "_view_module_version": "1.2.0",
            "grid_template_areas": null,
            "object_position": null,
            "object_fit": null,
            "grid_auto_columns": null,
            "margin": null,
            "display": null,
            "left": null
          }
        },
        "7cdc2cea1894406b88bdacb5aa8e7fad": {
          "model_module": "@jupyter-widgets/controls",
          "model_name": "HBoxModel",
          "state": {
            "_view_name": "HBoxView",
            "_dom_classes": [],
            "_model_name": "HBoxModel",
            "_view_module": "@jupyter-widgets/controls",
            "_model_module_version": "1.5.0",
            "_view_count": null,
            "_view_module_version": "1.5.0",
            "box_style": "",
            "layout": "IPY_MODEL_0a986170d60b42a6ab6cf69604c9e228",
            "_model_module": "@jupyter-widgets/controls",
            "children": [
              "IPY_MODEL_a151b4f0ba7c4f53944f0c4d4d6d2aed",
              "IPY_MODEL_d8ffed9af3a64b1d9cd2f9d793112599"
            ]
          }
        },
        "0a986170d60b42a6ab6cf69604c9e228": {
          "model_module": "@jupyter-widgets/base",
          "model_name": "LayoutModel",
          "state": {
            "_view_name": "LayoutView",
            "grid_template_rows": null,
            "right": null,
            "justify_content": null,
            "_view_module": "@jupyter-widgets/base",
            "overflow": null,
            "_model_module_version": "1.2.0",
            "_view_count": null,
            "flex_flow": null,
            "width": null,
            "min_width": null,
            "border": null,
            "align_items": null,
            "bottom": null,
            "_model_module": "@jupyter-widgets/base",
            "top": null,
            "grid_column": null,
            "overflow_y": null,
            "overflow_x": null,
            "grid_auto_flow": null,
            "grid_area": null,
            "grid_template_columns": null,
            "flex": null,
            "_model_name": "LayoutModel",
            "justify_items": null,
            "grid_row": null,
            "max_height": null,
            "align_content": null,
            "visibility": null,
            "align_self": null,
            "height": null,
            "min_height": null,
            "padding": null,
            "grid_auto_rows": null,
            "grid_gap": null,
            "max_width": null,
            "order": null,
            "_view_module_version": "1.2.0",
            "grid_template_areas": null,
            "object_position": null,
            "object_fit": null,
            "grid_auto_columns": null,
            "margin": null,
            "display": null,
            "left": null
          }
        },
        "a151b4f0ba7c4f53944f0c4d4d6d2aed": {
          "model_module": "@jupyter-widgets/controls",
          "model_name": "FloatProgressModel",
          "state": {
            "_view_name": "ProgressView",
            "style": "IPY_MODEL_7cec746713f04a4aad60627f64cd20c2",
            "_dom_classes": [],
            "description": "100%",
            "_model_name": "FloatProgressModel",
            "bar_style": "success",
            "max": 829,
            "_view_module": "@jupyter-widgets/controls",
            "_model_module_version": "1.5.0",
            "value": 829,
            "_view_count": null,
            "_view_module_version": "1.5.0",
            "orientation": "horizontal",
            "min": 0,
            "description_tooltip": null,
            "_model_module": "@jupyter-widgets/controls",
            "layout": "IPY_MODEL_52bffc2e126e4aad91f3c9c1594fe08f"
          }
        },
        "d8ffed9af3a64b1d9cd2f9d793112599": {
          "model_module": "@jupyter-widgets/controls",
          "model_name": "HTMLModel",
          "state": {
            "_view_name": "HTMLView",
            "style": "IPY_MODEL_7d9badcf56c9474d8265ff5a9f7b53b9",
            "_dom_classes": [],
            "description": "",
            "_model_name": "HTMLModel",
            "placeholder": "​",
            "_view_module": "@jupyter-widgets/controls",
            "_model_module_version": "1.5.0",
            "value": " 829/829 [00:16&lt;00:00, 50.95it/s]",
            "_view_count": null,
            "_view_module_version": "1.5.0",
            "description_tooltip": null,
            "_model_module": "@jupyter-widgets/controls",
            "layout": "IPY_MODEL_a977e7e2edd64e268bd0979c8e848e78"
          }
        },
        "7cec746713f04a4aad60627f64cd20c2": {
          "model_module": "@jupyter-widgets/controls",
          "model_name": "ProgressStyleModel",
          "state": {
            "_view_name": "StyleView",
            "_model_name": "ProgressStyleModel",
            "description_width": "initial",
            "_view_module": "@jupyter-widgets/base",
            "_model_module_version": "1.5.0",
            "_view_count": null,
            "_view_module_version": "1.2.0",
            "bar_color": null,
            "_model_module": "@jupyter-widgets/controls"
          }
        },
        "52bffc2e126e4aad91f3c9c1594fe08f": {
          "model_module": "@jupyter-widgets/base",
          "model_name": "LayoutModel",
          "state": {
            "_view_name": "LayoutView",
            "grid_template_rows": null,
            "right": null,
            "justify_content": null,
            "_view_module": "@jupyter-widgets/base",
            "overflow": null,
            "_model_module_version": "1.2.0",
            "_view_count": null,
            "flex_flow": null,
            "width": null,
            "min_width": null,
            "border": null,
            "align_items": null,
            "bottom": null,
            "_model_module": "@jupyter-widgets/base",
            "top": null,
            "grid_column": null,
            "overflow_y": null,
            "overflow_x": null,
            "grid_auto_flow": null,
            "grid_area": null,
            "grid_template_columns": null,
            "flex": null,
            "_model_name": "LayoutModel",
            "justify_items": null,
            "grid_row": null,
            "max_height": null,
            "align_content": null,
            "visibility": null,
            "align_self": null,
            "height": null,
            "min_height": null,
            "padding": null,
            "grid_auto_rows": null,
            "grid_gap": null,
            "max_width": null,
            "order": null,
            "_view_module_version": "1.2.0",
            "grid_template_areas": null,
            "object_position": null,
            "object_fit": null,
            "grid_auto_columns": null,
            "margin": null,
            "display": null,
            "left": null
          }
        },
        "7d9badcf56c9474d8265ff5a9f7b53b9": {
          "model_module": "@jupyter-widgets/controls",
          "model_name": "DescriptionStyleModel",
          "state": {
            "_view_name": "StyleView",
            "_model_name": "DescriptionStyleModel",
            "description_width": "",
            "_view_module": "@jupyter-widgets/base",
            "_model_module_version": "1.5.0",
            "_view_count": null,
            "_view_module_version": "1.2.0",
            "_model_module": "@jupyter-widgets/controls"
          }
        },
        "a977e7e2edd64e268bd0979c8e848e78": {
          "model_module": "@jupyter-widgets/base",
          "model_name": "LayoutModel",
          "state": {
            "_view_name": "LayoutView",
            "grid_template_rows": null,
            "right": null,
            "justify_content": null,
            "_view_module": "@jupyter-widgets/base",
            "overflow": null,
            "_model_module_version": "1.2.0",
            "_view_count": null,
            "flex_flow": null,
            "width": null,
            "min_width": null,
            "border": null,
            "align_items": null,
            "bottom": null,
            "_model_module": "@jupyter-widgets/base",
            "top": null,
            "grid_column": null,
            "overflow_y": null,
            "overflow_x": null,
            "grid_auto_flow": null,
            "grid_area": null,
            "grid_template_columns": null,
            "flex": null,
            "_model_name": "LayoutModel",
            "justify_items": null,
            "grid_row": null,
            "max_height": null,
            "align_content": null,
            "visibility": null,
            "align_self": null,
            "height": null,
            "min_height": null,
            "padding": null,
            "grid_auto_rows": null,
            "grid_gap": null,
            "max_width": null,
            "order": null,
            "_view_module_version": "1.2.0",
            "grid_template_areas": null,
            "object_position": null,
            "object_fit": null,
            "grid_auto_columns": null,
            "margin": null,
            "display": null,
            "left": null
          }
        },
        "df7443f0bdf14b918c5fd8d72f418c29": {
          "model_module": "@jupyter-widgets/controls",
          "model_name": "HBoxModel",
          "state": {
            "_view_name": "HBoxView",
            "_dom_classes": [],
            "_model_name": "HBoxModel",
            "_view_module": "@jupyter-widgets/controls",
            "_model_module_version": "1.5.0",
            "_view_count": null,
            "_view_module_version": "1.5.0",
            "box_style": "",
            "layout": "IPY_MODEL_5efd6c967d96484e95256e01e9302c6f",
            "_model_module": "@jupyter-widgets/controls",
            "children": [
              "IPY_MODEL_d73406f1a56a49588f3c54ecc03521b6",
              "IPY_MODEL_7a2cc3343c3c4f2480e37b106d20cb7b"
            ]
          }
        },
        "5efd6c967d96484e95256e01e9302c6f": {
          "model_module": "@jupyter-widgets/base",
          "model_name": "LayoutModel",
          "state": {
            "_view_name": "LayoutView",
            "grid_template_rows": null,
            "right": null,
            "justify_content": null,
            "_view_module": "@jupyter-widgets/base",
            "overflow": null,
            "_model_module_version": "1.2.0",
            "_view_count": null,
            "flex_flow": null,
            "width": null,
            "min_width": null,
            "border": null,
            "align_items": null,
            "bottom": null,
            "_model_module": "@jupyter-widgets/base",
            "top": null,
            "grid_column": null,
            "overflow_y": null,
            "overflow_x": null,
            "grid_auto_flow": null,
            "grid_area": null,
            "grid_template_columns": null,
            "flex": null,
            "_model_name": "LayoutModel",
            "justify_items": null,
            "grid_row": null,
            "max_height": null,
            "align_content": null,
            "visibility": null,
            "align_self": null,
            "height": null,
            "min_height": null,
            "padding": null,
            "grid_auto_rows": null,
            "grid_gap": null,
            "max_width": null,
            "order": null,
            "_view_module_version": "1.2.0",
            "grid_template_areas": null,
            "object_position": null,
            "object_fit": null,
            "grid_auto_columns": null,
            "margin": null,
            "display": null,
            "left": null
          }
        },
        "d73406f1a56a49588f3c54ecc03521b6": {
          "model_module": "@jupyter-widgets/controls",
          "model_name": "FloatProgressModel",
          "state": {
            "_view_name": "ProgressView",
            "style": "IPY_MODEL_c8cf10faffe94ee1825aeba0a0dd4458",
            "_dom_classes": [],
            "description": "100%",
            "_model_name": "FloatProgressModel",
            "bar_style": "success",
            "max": 1933,
            "_view_module": "@jupyter-widgets/controls",
            "_model_module_version": "1.5.0",
            "value": 1933,
            "_view_count": null,
            "_view_module_version": "1.5.0",
            "orientation": "horizontal",
            "min": 0,
            "description_tooltip": null,
            "_model_module": "@jupyter-widgets/controls",
            "layout": "IPY_MODEL_cd953334c78e44c1bb5f5113b1c10ab5"
          }
        },
        "7a2cc3343c3c4f2480e37b106d20cb7b": {
          "model_module": "@jupyter-widgets/controls",
          "model_name": "HTMLModel",
          "state": {
            "_view_name": "HTMLView",
            "style": "IPY_MODEL_fb420427378649899e1a80a0d901ebef",
            "_dom_classes": [],
            "description": "",
            "_model_name": "HTMLModel",
            "placeholder": "​",
            "_view_module": "@jupyter-widgets/controls",
            "_model_module_version": "1.5.0",
            "value": " 1933/1933 [00:20&lt;00:00, 95.18it/s]",
            "_view_count": null,
            "_view_module_version": "1.5.0",
            "description_tooltip": null,
            "_model_module": "@jupyter-widgets/controls",
            "layout": "IPY_MODEL_5bedb346773f42c084da54e0bb836eda"
          }
        },
        "c8cf10faffe94ee1825aeba0a0dd4458": {
          "model_module": "@jupyter-widgets/controls",
          "model_name": "ProgressStyleModel",
          "state": {
            "_view_name": "StyleView",
            "_model_name": "ProgressStyleModel",
            "description_width": "initial",
            "_view_module": "@jupyter-widgets/base",
            "_model_module_version": "1.5.0",
            "_view_count": null,
            "_view_module_version": "1.2.0",
            "bar_color": null,
            "_model_module": "@jupyter-widgets/controls"
          }
        },
        "cd953334c78e44c1bb5f5113b1c10ab5": {
          "model_module": "@jupyter-widgets/base",
          "model_name": "LayoutModel",
          "state": {
            "_view_name": "LayoutView",
            "grid_template_rows": null,
            "right": null,
            "justify_content": null,
            "_view_module": "@jupyter-widgets/base",
            "overflow": null,
            "_model_module_version": "1.2.0",
            "_view_count": null,
            "flex_flow": null,
            "width": null,
            "min_width": null,
            "border": null,
            "align_items": null,
            "bottom": null,
            "_model_module": "@jupyter-widgets/base",
            "top": null,
            "grid_column": null,
            "overflow_y": null,
            "overflow_x": null,
            "grid_auto_flow": null,
            "grid_area": null,
            "grid_template_columns": null,
            "flex": null,
            "_model_name": "LayoutModel",
            "justify_items": null,
            "grid_row": null,
            "max_height": null,
            "align_content": null,
            "visibility": null,
            "align_self": null,
            "height": null,
            "min_height": null,
            "padding": null,
            "grid_auto_rows": null,
            "grid_gap": null,
            "max_width": null,
            "order": null,
            "_view_module_version": "1.2.0",
            "grid_template_areas": null,
            "object_position": null,
            "object_fit": null,
            "grid_auto_columns": null,
            "margin": null,
            "display": null,
            "left": null
          }
        },
        "fb420427378649899e1a80a0d901ebef": {
          "model_module": "@jupyter-widgets/controls",
          "model_name": "DescriptionStyleModel",
          "state": {
            "_view_name": "StyleView",
            "_model_name": "DescriptionStyleModel",
            "description_width": "",
            "_view_module": "@jupyter-widgets/base",
            "_model_module_version": "1.5.0",
            "_view_count": null,
            "_view_module_version": "1.2.0",
            "_model_module": "@jupyter-widgets/controls"
          }
        },
        "5bedb346773f42c084da54e0bb836eda": {
          "model_module": "@jupyter-widgets/base",
          "model_name": "LayoutModel",
          "state": {
            "_view_name": "LayoutView",
            "grid_template_rows": null,
            "right": null,
            "justify_content": null,
            "_view_module": "@jupyter-widgets/base",
            "overflow": null,
            "_model_module_version": "1.2.0",
            "_view_count": null,
            "flex_flow": null,
            "width": null,
            "min_width": null,
            "border": null,
            "align_items": null,
            "bottom": null,
            "_model_module": "@jupyter-widgets/base",
            "top": null,
            "grid_column": null,
            "overflow_y": null,
            "overflow_x": null,
            "grid_auto_flow": null,
            "grid_area": null,
            "grid_template_columns": null,
            "flex": null,
            "_model_name": "LayoutModel",
            "justify_items": null,
            "grid_row": null,
            "max_height": null,
            "align_content": null,
            "visibility": null,
            "align_self": null,
            "height": null,
            "min_height": null,
            "padding": null,
            "grid_auto_rows": null,
            "grid_gap": null,
            "max_width": null,
            "order": null,
            "_view_module_version": "1.2.0",
            "grid_template_areas": null,
            "object_position": null,
            "object_fit": null,
            "grid_auto_columns": null,
            "margin": null,
            "display": null,
            "left": null
          }
        },
        "1b89908dfbad475f8b1658563cc5aee3": {
          "model_module": "@jupyter-widgets/controls",
          "model_name": "HBoxModel",
          "state": {
            "_view_name": "HBoxView",
            "_dom_classes": [],
            "_model_name": "HBoxModel",
            "_view_module": "@jupyter-widgets/controls",
            "_model_module_version": "1.5.0",
            "_view_count": null,
            "_view_module_version": "1.5.0",
            "box_style": "",
            "layout": "IPY_MODEL_0cc310f4082f49fa8519e058c87734a4",
            "_model_module": "@jupyter-widgets/controls",
            "children": [
              "IPY_MODEL_7dbff96fa350437a8bbc2eee689a9dba",
              "IPY_MODEL_c456274c4ed544229cfd6d0484c315ef"
            ]
          }
        },
        "0cc310f4082f49fa8519e058c87734a4": {
          "model_module": "@jupyter-widgets/base",
          "model_name": "LayoutModel",
          "state": {
            "_view_name": "LayoutView",
            "grid_template_rows": null,
            "right": null,
            "justify_content": null,
            "_view_module": "@jupyter-widgets/base",
            "overflow": null,
            "_model_module_version": "1.2.0",
            "_view_count": null,
            "flex_flow": null,
            "width": null,
            "min_width": null,
            "border": null,
            "align_items": null,
            "bottom": null,
            "_model_module": "@jupyter-widgets/base",
            "top": null,
            "grid_column": null,
            "overflow_y": null,
            "overflow_x": null,
            "grid_auto_flow": null,
            "grid_area": null,
            "grid_template_columns": null,
            "flex": null,
            "_model_name": "LayoutModel",
            "justify_items": null,
            "grid_row": null,
            "max_height": null,
            "align_content": null,
            "visibility": null,
            "align_self": null,
            "height": null,
            "min_height": null,
            "padding": null,
            "grid_auto_rows": null,
            "grid_gap": null,
            "max_width": null,
            "order": null,
            "_view_module_version": "1.2.0",
            "grid_template_areas": null,
            "object_position": null,
            "object_fit": null,
            "grid_auto_columns": null,
            "margin": null,
            "display": null,
            "left": null
          }
        },
        "7dbff96fa350437a8bbc2eee689a9dba": {
          "model_module": "@jupyter-widgets/controls",
          "model_name": "FloatProgressModel",
          "state": {
            "_view_name": "ProgressView",
            "style": "IPY_MODEL_909e642e705e4a91aef23a15d1912136",
            "_dom_classes": [],
            "description": "100%",
            "_model_name": "FloatProgressModel",
            "bar_style": "success",
            "max": 829,
            "_view_module": "@jupyter-widgets/controls",
            "_model_module_version": "1.5.0",
            "value": 829,
            "_view_count": null,
            "_view_module_version": "1.5.0",
            "orientation": "horizontal",
            "min": 0,
            "description_tooltip": null,
            "_model_module": "@jupyter-widgets/controls",
            "layout": "IPY_MODEL_c269a04283ad431eb3e3a469d50c21bc"
          }
        },
        "c456274c4ed544229cfd6d0484c315ef": {
          "model_module": "@jupyter-widgets/controls",
          "model_name": "HTMLModel",
          "state": {
            "_view_name": "HTMLView",
            "style": "IPY_MODEL_e930f592a5d54b6eaf9336acdc9452dd",
            "_dom_classes": [],
            "description": "",
            "_model_name": "HTMLModel",
            "placeholder": "​",
            "_view_module": "@jupyter-widgets/controls",
            "_model_module_version": "1.5.0",
            "value": " 829/829 [00:17&lt;00:00, 47.87it/s]",
            "_view_count": null,
            "_view_module_version": "1.5.0",
            "description_tooltip": null,
            "_model_module": "@jupyter-widgets/controls",
            "layout": "IPY_MODEL_ae3b7ab5d7f14394bce6ed01d2892ddb"
          }
        },
        "909e642e705e4a91aef23a15d1912136": {
          "model_module": "@jupyter-widgets/controls",
          "model_name": "ProgressStyleModel",
          "state": {
            "_view_name": "StyleView",
            "_model_name": "ProgressStyleModel",
            "description_width": "initial",
            "_view_module": "@jupyter-widgets/base",
            "_model_module_version": "1.5.0",
            "_view_count": null,
            "_view_module_version": "1.2.0",
            "bar_color": null,
            "_model_module": "@jupyter-widgets/controls"
          }
        },
        "c269a04283ad431eb3e3a469d50c21bc": {
          "model_module": "@jupyter-widgets/base",
          "model_name": "LayoutModel",
          "state": {
            "_view_name": "LayoutView",
            "grid_template_rows": null,
            "right": null,
            "justify_content": null,
            "_view_module": "@jupyter-widgets/base",
            "overflow": null,
            "_model_module_version": "1.2.0",
            "_view_count": null,
            "flex_flow": null,
            "width": null,
            "min_width": null,
            "border": null,
            "align_items": null,
            "bottom": null,
            "_model_module": "@jupyter-widgets/base",
            "top": null,
            "grid_column": null,
            "overflow_y": null,
            "overflow_x": null,
            "grid_auto_flow": null,
            "grid_area": null,
            "grid_template_columns": null,
            "flex": null,
            "_model_name": "LayoutModel",
            "justify_items": null,
            "grid_row": null,
            "max_height": null,
            "align_content": null,
            "visibility": null,
            "align_self": null,
            "height": null,
            "min_height": null,
            "padding": null,
            "grid_auto_rows": null,
            "grid_gap": null,
            "max_width": null,
            "order": null,
            "_view_module_version": "1.2.0",
            "grid_template_areas": null,
            "object_position": null,
            "object_fit": null,
            "grid_auto_columns": null,
            "margin": null,
            "display": null,
            "left": null
          }
        },
        "e930f592a5d54b6eaf9336acdc9452dd": {
          "model_module": "@jupyter-widgets/controls",
          "model_name": "DescriptionStyleModel",
          "state": {
            "_view_name": "StyleView",
            "_model_name": "DescriptionStyleModel",
            "description_width": "",
            "_view_module": "@jupyter-widgets/base",
            "_model_module_version": "1.5.0",
            "_view_count": null,
            "_view_module_version": "1.2.0",
            "_model_module": "@jupyter-widgets/controls"
          }
        },
        "ae3b7ab5d7f14394bce6ed01d2892ddb": {
          "model_module": "@jupyter-widgets/base",
          "model_name": "LayoutModel",
          "state": {
            "_view_name": "LayoutView",
            "grid_template_rows": null,
            "right": null,
            "justify_content": null,
            "_view_module": "@jupyter-widgets/base",
            "overflow": null,
            "_model_module_version": "1.2.0",
            "_view_count": null,
            "flex_flow": null,
            "width": null,
            "min_width": null,
            "border": null,
            "align_items": null,
            "bottom": null,
            "_model_module": "@jupyter-widgets/base",
            "top": null,
            "grid_column": null,
            "overflow_y": null,
            "overflow_x": null,
            "grid_auto_flow": null,
            "grid_area": null,
            "grid_template_columns": null,
            "flex": null,
            "_model_name": "LayoutModel",
            "justify_items": null,
            "grid_row": null,
            "max_height": null,
            "align_content": null,
            "visibility": null,
            "align_self": null,
            "height": null,
            "min_height": null,
            "padding": null,
            "grid_auto_rows": null,
            "grid_gap": null,
            "max_width": null,
            "order": null,
            "_view_module_version": "1.2.0",
            "grid_template_areas": null,
            "object_position": null,
            "object_fit": null,
            "grid_auto_columns": null,
            "margin": null,
            "display": null,
            "left": null
          }
        },
        "6211499322a848458006b0e3a6000c8e": {
          "model_module": "@jupyter-widgets/controls",
          "model_name": "HBoxModel",
          "state": {
            "_view_name": "HBoxView",
            "_dom_classes": [],
            "_model_name": "HBoxModel",
            "_view_module": "@jupyter-widgets/controls",
            "_model_module_version": "1.5.0",
            "_view_count": null,
            "_view_module_version": "1.5.0",
            "box_style": "",
            "layout": "IPY_MODEL_83bac711a73e457eb6f11b9e7831478b",
            "_model_module": "@jupyter-widgets/controls",
            "children": [
              "IPY_MODEL_478c757efe8e4da19b1f0c451fa2c492",
              "IPY_MODEL_4b9dcbffaea94a509e157efd3b861d83"
            ]
          }
        },
        "83bac711a73e457eb6f11b9e7831478b": {
          "model_module": "@jupyter-widgets/base",
          "model_name": "LayoutModel",
          "state": {
            "_view_name": "LayoutView",
            "grid_template_rows": null,
            "right": null,
            "justify_content": null,
            "_view_module": "@jupyter-widgets/base",
            "overflow": null,
            "_model_module_version": "1.2.0",
            "_view_count": null,
            "flex_flow": null,
            "width": null,
            "min_width": null,
            "border": null,
            "align_items": null,
            "bottom": null,
            "_model_module": "@jupyter-widgets/base",
            "top": null,
            "grid_column": null,
            "overflow_y": null,
            "overflow_x": null,
            "grid_auto_flow": null,
            "grid_area": null,
            "grid_template_columns": null,
            "flex": null,
            "_model_name": "LayoutModel",
            "justify_items": null,
            "grid_row": null,
            "max_height": null,
            "align_content": null,
            "visibility": null,
            "align_self": null,
            "height": null,
            "min_height": null,
            "padding": null,
            "grid_auto_rows": null,
            "grid_gap": null,
            "max_width": null,
            "order": null,
            "_view_module_version": "1.2.0",
            "grid_template_areas": null,
            "object_position": null,
            "object_fit": null,
            "grid_auto_columns": null,
            "margin": null,
            "display": null,
            "left": null
          }
        },
        "478c757efe8e4da19b1f0c451fa2c492": {
          "model_module": "@jupyter-widgets/controls",
          "model_name": "FloatProgressModel",
          "state": {
            "_view_name": "ProgressView",
            "style": "IPY_MODEL_0cad9bcfa05749b781a4b20e1b6a9c1b",
            "_dom_classes": [],
            "description": "100%",
            "_model_name": "FloatProgressModel",
            "bar_style": "success",
            "max": 1933,
            "_view_module": "@jupyter-widgets/controls",
            "_model_module_version": "1.5.0",
            "value": 1933,
            "_view_count": null,
            "_view_module_version": "1.5.0",
            "orientation": "horizontal",
            "min": 0,
            "description_tooltip": null,
            "_model_module": "@jupyter-widgets/controls",
            "layout": "IPY_MODEL_a690b526af614d489745d222f8b1781d"
          }
        },
        "4b9dcbffaea94a509e157efd3b861d83": {
          "model_module": "@jupyter-widgets/controls",
          "model_name": "HTMLModel",
          "state": {
            "_view_name": "HTMLView",
            "style": "IPY_MODEL_1b81d7d4eb3c43d4a1682ad9078ddc1b",
            "_dom_classes": [],
            "description": "",
            "_model_name": "HTMLModel",
            "placeholder": "​",
            "_view_module": "@jupyter-widgets/controls",
            "_model_module_version": "1.5.0",
            "value": " 1933/1933 [02:03&lt;00:00, 15.66it/s]",
            "_view_count": null,
            "_view_module_version": "1.5.0",
            "description_tooltip": null,
            "_model_module": "@jupyter-widgets/controls",
            "layout": "IPY_MODEL_6032d9704f7e40808b40c47bdba5ec70"
          }
        },
        "0cad9bcfa05749b781a4b20e1b6a9c1b": {
          "model_module": "@jupyter-widgets/controls",
          "model_name": "ProgressStyleModel",
          "state": {
            "_view_name": "StyleView",
            "_model_name": "ProgressStyleModel",
            "description_width": "initial",
            "_view_module": "@jupyter-widgets/base",
            "_model_module_version": "1.5.0",
            "_view_count": null,
            "_view_module_version": "1.2.0",
            "bar_color": null,
            "_model_module": "@jupyter-widgets/controls"
          }
        },
        "a690b526af614d489745d222f8b1781d": {
          "model_module": "@jupyter-widgets/base",
          "model_name": "LayoutModel",
          "state": {
            "_view_name": "LayoutView",
            "grid_template_rows": null,
            "right": null,
            "justify_content": null,
            "_view_module": "@jupyter-widgets/base",
            "overflow": null,
            "_model_module_version": "1.2.0",
            "_view_count": null,
            "flex_flow": null,
            "width": null,
            "min_width": null,
            "border": null,
            "align_items": null,
            "bottom": null,
            "_model_module": "@jupyter-widgets/base",
            "top": null,
            "grid_column": null,
            "overflow_y": null,
            "overflow_x": null,
            "grid_auto_flow": null,
            "grid_area": null,
            "grid_template_columns": null,
            "flex": null,
            "_model_name": "LayoutModel",
            "justify_items": null,
            "grid_row": null,
            "max_height": null,
            "align_content": null,
            "visibility": null,
            "align_self": null,
            "height": null,
            "min_height": null,
            "padding": null,
            "grid_auto_rows": null,
            "grid_gap": null,
            "max_width": null,
            "order": null,
            "_view_module_version": "1.2.0",
            "grid_template_areas": null,
            "object_position": null,
            "object_fit": null,
            "grid_auto_columns": null,
            "margin": null,
            "display": null,
            "left": null
          }
        },
        "1b81d7d4eb3c43d4a1682ad9078ddc1b": {
          "model_module": "@jupyter-widgets/controls",
          "model_name": "DescriptionStyleModel",
          "state": {
            "_view_name": "StyleView",
            "_model_name": "DescriptionStyleModel",
            "description_width": "",
            "_view_module": "@jupyter-widgets/base",
            "_model_module_version": "1.5.0",
            "_view_count": null,
            "_view_module_version": "1.2.0",
            "_model_module": "@jupyter-widgets/controls"
          }
        },
        "6032d9704f7e40808b40c47bdba5ec70": {
          "model_module": "@jupyter-widgets/base",
          "model_name": "LayoutModel",
          "state": {
            "_view_name": "LayoutView",
            "grid_template_rows": null,
            "right": null,
            "justify_content": null,
            "_view_module": "@jupyter-widgets/base",
            "overflow": null,
            "_model_module_version": "1.2.0",
            "_view_count": null,
            "flex_flow": null,
            "width": null,
            "min_width": null,
            "border": null,
            "align_items": null,
            "bottom": null,
            "_model_module": "@jupyter-widgets/base",
            "top": null,
            "grid_column": null,
            "overflow_y": null,
            "overflow_x": null,
            "grid_auto_flow": null,
            "grid_area": null,
            "grid_template_columns": null,
            "flex": null,
            "_model_name": "LayoutModel",
            "justify_items": null,
            "grid_row": null,
            "max_height": null,
            "align_content": null,
            "visibility": null,
            "align_self": null,
            "height": null,
            "min_height": null,
            "padding": null,
            "grid_auto_rows": null,
            "grid_gap": null,
            "max_width": null,
            "order": null,
            "_view_module_version": "1.2.0",
            "grid_template_areas": null,
            "object_position": null,
            "object_fit": null,
            "grid_auto_columns": null,
            "margin": null,
            "display": null,
            "left": null
          }
        },
        "b0d21bcc851c440c9bcf5f9a73edc335": {
          "model_module": "@jupyter-widgets/controls",
          "model_name": "HBoxModel",
          "state": {
            "_view_name": "HBoxView",
            "_dom_classes": [],
            "_model_name": "HBoxModel",
            "_view_module": "@jupyter-widgets/controls",
            "_model_module_version": "1.5.0",
            "_view_count": null,
            "_view_module_version": "1.5.0",
            "box_style": "",
            "layout": "IPY_MODEL_ead8a1a9c9ec4fd189093ec97a54089f",
            "_model_module": "@jupyter-widgets/controls",
            "children": [
              "IPY_MODEL_22e5e1e3afb941fca5fa2edaa1c9f681",
              "IPY_MODEL_4d33c03cd2484a1999ba99343cd72931"
            ]
          }
        },
        "ead8a1a9c9ec4fd189093ec97a54089f": {
          "model_module": "@jupyter-widgets/base",
          "model_name": "LayoutModel",
          "state": {
            "_view_name": "LayoutView",
            "grid_template_rows": null,
            "right": null,
            "justify_content": null,
            "_view_module": "@jupyter-widgets/base",
            "overflow": null,
            "_model_module_version": "1.2.0",
            "_view_count": null,
            "flex_flow": null,
            "width": null,
            "min_width": null,
            "border": null,
            "align_items": null,
            "bottom": null,
            "_model_module": "@jupyter-widgets/base",
            "top": null,
            "grid_column": null,
            "overflow_y": null,
            "overflow_x": null,
            "grid_auto_flow": null,
            "grid_area": null,
            "grid_template_columns": null,
            "flex": null,
            "_model_name": "LayoutModel",
            "justify_items": null,
            "grid_row": null,
            "max_height": null,
            "align_content": null,
            "visibility": null,
            "align_self": null,
            "height": null,
            "min_height": null,
            "padding": null,
            "grid_auto_rows": null,
            "grid_gap": null,
            "max_width": null,
            "order": null,
            "_view_module_version": "1.2.0",
            "grid_template_areas": null,
            "object_position": null,
            "object_fit": null,
            "grid_auto_columns": null,
            "margin": null,
            "display": null,
            "left": null
          }
        },
        "22e5e1e3afb941fca5fa2edaa1c9f681": {
          "model_module": "@jupyter-widgets/controls",
          "model_name": "FloatProgressModel",
          "state": {
            "_view_name": "ProgressView",
            "style": "IPY_MODEL_bf61f2780c0b412d94ab0ba0fa260dde",
            "_dom_classes": [],
            "description": "100%",
            "_model_name": "FloatProgressModel",
            "bar_style": "success",
            "max": 829,
            "_view_module": "@jupyter-widgets/controls",
            "_model_module_version": "1.5.0",
            "value": 829,
            "_view_count": null,
            "_view_module_version": "1.5.0",
            "orientation": "horizontal",
            "min": 0,
            "description_tooltip": null,
            "_model_module": "@jupyter-widgets/controls",
            "layout": "IPY_MODEL_f1d83b34dba7430f807ae28d6df88395"
          }
        },
        "4d33c03cd2484a1999ba99343cd72931": {
          "model_module": "@jupyter-widgets/controls",
          "model_name": "HTMLModel",
          "state": {
            "_view_name": "HTMLView",
            "style": "IPY_MODEL_2e761299d2224a75ac8ec6066e1f561c",
            "_dom_classes": [],
            "description": "",
            "_model_name": "HTMLModel",
            "placeholder": "​",
            "_view_module": "@jupyter-widgets/controls",
            "_model_module_version": "1.5.0",
            "value": " 829/829 [00:12&lt;00:00, 65.97it/s]",
            "_view_count": null,
            "_view_module_version": "1.5.0",
            "description_tooltip": null,
            "_model_module": "@jupyter-widgets/controls",
            "layout": "IPY_MODEL_3340a1b131d84c01b44b209b73744afc"
          }
        },
        "bf61f2780c0b412d94ab0ba0fa260dde": {
          "model_module": "@jupyter-widgets/controls",
          "model_name": "ProgressStyleModel",
          "state": {
            "_view_name": "StyleView",
            "_model_name": "ProgressStyleModel",
            "description_width": "initial",
            "_view_module": "@jupyter-widgets/base",
            "_model_module_version": "1.5.0",
            "_view_count": null,
            "_view_module_version": "1.2.0",
            "bar_color": null,
            "_model_module": "@jupyter-widgets/controls"
          }
        },
        "f1d83b34dba7430f807ae28d6df88395": {
          "model_module": "@jupyter-widgets/base",
          "model_name": "LayoutModel",
          "state": {
            "_view_name": "LayoutView",
            "grid_template_rows": null,
            "right": null,
            "justify_content": null,
            "_view_module": "@jupyter-widgets/base",
            "overflow": null,
            "_model_module_version": "1.2.0",
            "_view_count": null,
            "flex_flow": null,
            "width": null,
            "min_width": null,
            "border": null,
            "align_items": null,
            "bottom": null,
            "_model_module": "@jupyter-widgets/base",
            "top": null,
            "grid_column": null,
            "overflow_y": null,
            "overflow_x": null,
            "grid_auto_flow": null,
            "grid_area": null,
            "grid_template_columns": null,
            "flex": null,
            "_model_name": "LayoutModel",
            "justify_items": null,
            "grid_row": null,
            "max_height": null,
            "align_content": null,
            "visibility": null,
            "align_self": null,
            "height": null,
            "min_height": null,
            "padding": null,
            "grid_auto_rows": null,
            "grid_gap": null,
            "max_width": null,
            "order": null,
            "_view_module_version": "1.2.0",
            "grid_template_areas": null,
            "object_position": null,
            "object_fit": null,
            "grid_auto_columns": null,
            "margin": null,
            "display": null,
            "left": null
          }
        },
        "2e761299d2224a75ac8ec6066e1f561c": {
          "model_module": "@jupyter-widgets/controls",
          "model_name": "DescriptionStyleModel",
          "state": {
            "_view_name": "StyleView",
            "_model_name": "DescriptionStyleModel",
            "description_width": "",
            "_view_module": "@jupyter-widgets/base",
            "_model_module_version": "1.5.0",
            "_view_count": null,
            "_view_module_version": "1.2.0",
            "_model_module": "@jupyter-widgets/controls"
          }
        },
        "3340a1b131d84c01b44b209b73744afc": {
          "model_module": "@jupyter-widgets/base",
          "model_name": "LayoutModel",
          "state": {
            "_view_name": "LayoutView",
            "grid_template_rows": null,
            "right": null,
            "justify_content": null,
            "_view_module": "@jupyter-widgets/base",
            "overflow": null,
            "_model_module_version": "1.2.0",
            "_view_count": null,
            "flex_flow": null,
            "width": null,
            "min_width": null,
            "border": null,
            "align_items": null,
            "bottom": null,
            "_model_module": "@jupyter-widgets/base",
            "top": null,
            "grid_column": null,
            "overflow_y": null,
            "overflow_x": null,
            "grid_auto_flow": null,
            "grid_area": null,
            "grid_template_columns": null,
            "flex": null,
            "_model_name": "LayoutModel",
            "justify_items": null,
            "grid_row": null,
            "max_height": null,
            "align_content": null,
            "visibility": null,
            "align_self": null,
            "height": null,
            "min_height": null,
            "padding": null,
            "grid_auto_rows": null,
            "grid_gap": null,
            "max_width": null,
            "order": null,
            "_view_module_version": "1.2.0",
            "grid_template_areas": null,
            "object_position": null,
            "object_fit": null,
            "grid_auto_columns": null,
            "margin": null,
            "display": null,
            "left": null
          }
        }
      }
    },
    "accelerator": "GPU"
  },
  "cells": [
    {
      "cell_type": "markdown",
      "metadata": {
        "id": "J8TNCvcickUP"
      },
      "source": [
        "*   feature selection:\r\n",
        "         [\r\n",
        "         'Auction_key',   \r\n",
        "         'Claim_price',           \r\n",
        "         'Total_land_gross_area','Total_land_real_area',\r\n",
        "         'Total_building_area','Total_building_auction_area','Total_appraisal_price','Minimum_sales_price',\r\n",
        "         'addr_do','addr_si','Total_floor','Current_floor']\r\n",
        "\r\n",
        "*   result, regist, rent에서 data 추출"
      ]
    },
    {
      "cell_type": "code",
      "metadata": {
        "colab": {
          "base_uri": "https://localhost:8080/"
        },
        "id": "V8Dpv1AUmXp_",
        "outputId": "0d94f831-d5f1-40c8-b292-eee32592ce75"
      },
      "source": [
        "!unzip data03.zip"
      ],
      "execution_count": 2,
      "outputs": [
        {
          "output_type": "stream",
          "text": [
            "Archive:  data03.zip\n",
            "  inflating: Auction_master_en.zip   \n",
            "  inflating: Auction_master_kr.zip   \n"
          ],
          "name": "stdout"
        }
      ]
    },
    {
      "cell_type": "code",
      "metadata": {
        "colab": {
          "base_uri": "https://localhost:8080/"
        },
        "id": "8125cJbUmo69",
        "outputId": "1c82d24a-2e03-48f5-f29f-f7fd7304ad1e"
      },
      "source": [
        "!unzip Auction_master_kr.zip"
      ],
      "execution_count": 3,
      "outputs": [
        {
          "output_type": "stream",
          "text": [
            "Archive:  Auction_master_kr.zip\n",
            "  inflating: Auction_rent.csv        \n",
            "   creating: __MACOSX/\n",
            "  inflating: __MACOSX/._Auction_rent.csv  \n",
            "  inflating: Auction_submission.csv  \n",
            "  inflating: __MACOSX/._Auction_submission.csv  \n",
            "  inflating: Auction_master_test.csv  \n",
            "  inflating: __MACOSX/._Auction_master_test.csv  \n",
            "  inflating: Auction_master_train.csv  \n",
            "  inflating: __MACOSX/._Auction_master_train.csv  \n",
            "  inflating: Auction_regist.csv      \n",
            "  inflating: __MACOSX/._Auction_regist.csv  \n",
            "  inflating: Auction_result.csv      \n",
            "  inflating: __MACOSX/._Auction_result.csv  \n"
          ],
          "name": "stdout"
        }
      ]
    },
    {
      "cell_type": "code",
      "metadata": {
        "id": "Y-SL-Icom4Rl"
      },
      "source": [
        "import pandas as pd\r\n",
        "import numpy as np\r\n",
        "from tqdm.notebook import tqdm\r\n",
        "import datetime\r\n",
        "import os\r\n",
        "from sklearn.model_selection import train_test_split\r\n",
        "from sklearn.metrics import mean_squared_error\r\n",
        "from sklearn.preprocessing import LabelEncoder\r\n",
        "import warnings\r\n",
        "warnings.filterwarnings('ignore')\r\n"
      ],
      "execution_count": 4,
      "outputs": []
    },
    {
      "cell_type": "code",
      "metadata": {
        "id": "VMVJ89hVnRgr"
      },
      "source": [
        "Auction_master_test=pd.read_csv(\"Auction_master_test.csv\")\r\n",
        "Auction_master_train=pd.read_csv(\"Auction_master_train.csv\")\r\n",
        "Auction_regist=pd.read_csv(\"Auction_regist.csv\")\r\n",
        "Auction_rent=pd.read_csv(\"Auction_rent.csv\")\r\n",
        "Auction_result=pd.read_csv(\"Auction_result.csv\")\r\n",
        "Auction_submission=pd.read_csv(\"Auction_submission.csv\")\r\n"
      ],
      "execution_count": 5,
      "outputs": []
    },
    {
      "cell_type": "code",
      "metadata": {
        "colab": {
          "base_uri": "https://localhost:8080/"
        },
        "id": "4r1FAAfg0Y5h",
        "outputId": "cb056fda-d942-4db7-9197-f67518165f3b"
      },
      "source": [
        "Auction_master_train.columns"
      ],
      "execution_count": 6,
      "outputs": [
        {
          "output_type": "execute_result",
          "data": {
            "text/plain": [
              "Index(['Auction_key', 'Auction_class', 'Bid_class', 'Claim_price',\n",
              "       'Appraisal_company', 'Appraisal_date', 'Auction_count',\n",
              "       'Auction_miscarriage_count', 'Total_land_gross_area',\n",
              "       'Total_land_real_area', 'Total_land_auction_area',\n",
              "       'Total_building_area', 'Total_building_auction_area',\n",
              "       'Total_appraisal_price', 'Minimum_sales_price', 'First_auction_date',\n",
              "       'Final_auction_date', 'Final_result', 'Creditor', 'addr_do', 'addr_si',\n",
              "       'addr_dong', 'addr_li', 'addr_san', 'addr_bunji1', 'addr_bunji2',\n",
              "       'addr_etc', 'Apartment_usage', 'Preserve_regist_date', 'Total_floor',\n",
              "       'Current_floor', 'Specific', 'Share_auction_YorN', 'road_name',\n",
              "       'road_bunji1', 'road_bunji2', 'Close_date', 'Close_result', 'point.y',\n",
              "       'point.x', 'Hammer_price'],\n",
              "      dtype='object')"
            ]
          },
          "metadata": {
            "tags": []
          },
          "execution_count": 6
        }
      ]
    },
    {
      "cell_type": "code",
      "metadata": {
        "colab": {
          "base_uri": "https://localhost:8080/"
        },
        "id": "TQugUKv4TYV1",
        "outputId": "bd00b07b-43ad-4b66-e9db-4f8e949df266"
      },
      "source": [
        "Auction_master_train.isna().sum()"
      ],
      "execution_count": 7,
      "outputs": [
        {
          "output_type": "execute_result",
          "data": {
            "text/plain": [
              "Auction_key                       0\n",
              "Auction_class                     0\n",
              "Bid_class                         0\n",
              "Claim_price                       0\n",
              "Appraisal_company                 0\n",
              "Appraisal_date                    0\n",
              "Auction_count                     0\n",
              "Auction_miscarriage_count         0\n",
              "Total_land_gross_area             0\n",
              "Total_land_real_area              0\n",
              "Total_land_auction_area           0\n",
              "Total_building_area               0\n",
              "Total_building_auction_area       0\n",
              "Total_appraisal_price             0\n",
              "Minimum_sales_price               0\n",
              "First_auction_date                0\n",
              "Final_auction_date                0\n",
              "Final_result                      0\n",
              "Creditor                          0\n",
              "addr_do                           0\n",
              "addr_si                           0\n",
              "addr_dong                         0\n",
              "addr_li                        1910\n",
              "addr_san                          0\n",
              "addr_bunji1                       4\n",
              "addr_bunji2                    1044\n",
              "addr_etc                          0\n",
              "Apartment_usage                   0\n",
              "Preserve_regist_date              0\n",
              "Total_floor                       0\n",
              "Current_floor                     0\n",
              "Specific                       1869\n",
              "Share_auction_YorN                0\n",
              "road_name                         0\n",
              "road_bunji1                      24\n",
              "road_bunji2                    1778\n",
              "Close_date                        0\n",
              "Close_result                      0\n",
              "point.y                           0\n",
              "point.x                           0\n",
              "Hammer_price                      0\n",
              "dtype: int64"
            ]
          },
          "metadata": {
            "tags": []
          },
          "execution_count": 7
        }
      ]
    },
    {
      "cell_type": "code",
      "metadata": {
        "colab": {
          "base_uri": "https://localhost:8080/",
          "height": 422
        },
        "id": "Syb2X-Fz1Cq_",
        "outputId": "c94c3f65-ac2e-4dcb-bfd4-386bf5d395dd"
      },
      "source": [
        "feature=['Auction_key','Claim_price','Total_land_gross_area','Total_land_real_area',\r\n",
        "         'Total_building_area','Total_building_auction_area','Total_appraisal_price','Minimum_sales_price',\r\n",
        "         'addr_do','addr_si','Total_floor','Current_floor']\r\n",
        "train=Auction_master_train[feature]\r\n",
        "\r\n",
        "test=Auction_master_test[feature]\r\n",
        "y=Auction_master_train['Hammer_price']\r\n",
        "\r\n",
        "train"
      ],
      "execution_count": 33,
      "outputs": [
        {
          "output_type": "execute_result",
          "data": {
            "text/html": [
              "<div>\n",
              "<style scoped>\n",
              "    .dataframe tbody tr th:only-of-type {\n",
              "        vertical-align: middle;\n",
              "    }\n",
              "\n",
              "    .dataframe tbody tr th {\n",
              "        vertical-align: top;\n",
              "    }\n",
              "\n",
              "    .dataframe thead th {\n",
              "        text-align: right;\n",
              "    }\n",
              "</style>\n",
              "<table border=\"1\" class=\"dataframe\">\n",
              "  <thead>\n",
              "    <tr style=\"text-align: right;\">\n",
              "      <th></th>\n",
              "      <th>Auction_key</th>\n",
              "      <th>Claim_price</th>\n",
              "      <th>Total_land_gross_area</th>\n",
              "      <th>Total_land_real_area</th>\n",
              "      <th>Total_building_area</th>\n",
              "      <th>Total_building_auction_area</th>\n",
              "      <th>Total_appraisal_price</th>\n",
              "      <th>Minimum_sales_price</th>\n",
              "      <th>addr_do</th>\n",
              "      <th>addr_si</th>\n",
              "      <th>Total_floor</th>\n",
              "      <th>Current_floor</th>\n",
              "    </tr>\n",
              "  </thead>\n",
              "  <tbody>\n",
              "    <tr>\n",
              "      <th>0</th>\n",
              "      <td>2687</td>\n",
              "      <td>1766037301</td>\n",
              "      <td>12592.0</td>\n",
              "      <td>37.35</td>\n",
              "      <td>181.77</td>\n",
              "      <td>181.77</td>\n",
              "      <td>836000000</td>\n",
              "      <td>668800000</td>\n",
              "      <td>부산</td>\n",
              "      <td>해운대구</td>\n",
              "      <td>45</td>\n",
              "      <td>5</td>\n",
              "    </tr>\n",
              "    <tr>\n",
              "      <th>1</th>\n",
              "      <td>2577</td>\n",
              "      <td>152946867</td>\n",
              "      <td>42478.1</td>\n",
              "      <td>18.76</td>\n",
              "      <td>118.38</td>\n",
              "      <td>118.38</td>\n",
              "      <td>1073000000</td>\n",
              "      <td>858400000</td>\n",
              "      <td>부산</td>\n",
              "      <td>해운대구</td>\n",
              "      <td>70</td>\n",
              "      <td>51</td>\n",
              "    </tr>\n",
              "    <tr>\n",
              "      <th>2</th>\n",
              "      <td>2197</td>\n",
              "      <td>11326510</td>\n",
              "      <td>149683.1</td>\n",
              "      <td>71.00</td>\n",
              "      <td>49.94</td>\n",
              "      <td>49.94</td>\n",
              "      <td>119000000</td>\n",
              "      <td>76160000</td>\n",
              "      <td>부산</td>\n",
              "      <td>사상구</td>\n",
              "      <td>15</td>\n",
              "      <td>14</td>\n",
              "    </tr>\n",
              "    <tr>\n",
              "      <th>3</th>\n",
              "      <td>2642</td>\n",
              "      <td>183581724</td>\n",
              "      <td>24405.0</td>\n",
              "      <td>32.98</td>\n",
              "      <td>84.91</td>\n",
              "      <td>84.91</td>\n",
              "      <td>288400000</td>\n",
              "      <td>230720000</td>\n",
              "      <td>부산</td>\n",
              "      <td>남구</td>\n",
              "      <td>20</td>\n",
              "      <td>11</td>\n",
              "    </tr>\n",
              "    <tr>\n",
              "      <th>4</th>\n",
              "      <td>1958</td>\n",
              "      <td>45887671</td>\n",
              "      <td>774.0</td>\n",
              "      <td>45.18</td>\n",
              "      <td>84.96</td>\n",
              "      <td>84.96</td>\n",
              "      <td>170000000</td>\n",
              "      <td>136000000</td>\n",
              "      <td>부산</td>\n",
              "      <td>사하구</td>\n",
              "      <td>7</td>\n",
              "      <td>7</td>\n",
              "    </tr>\n",
              "    <tr>\n",
              "      <th>...</th>\n",
              "      <td>...</td>\n",
              "      <td>...</td>\n",
              "      <td>...</td>\n",
              "      <td>...</td>\n",
              "      <td>...</td>\n",
              "      <td>...</td>\n",
              "      <td>...</td>\n",
              "      <td>...</td>\n",
              "      <td>...</td>\n",
              "      <td>...</td>\n",
              "      <td>...</td>\n",
              "      <td>...</td>\n",
              "    </tr>\n",
              "    <tr>\n",
              "      <th>1928</th>\n",
              "      <td>1567</td>\n",
              "      <td>280000000</td>\n",
              "      <td>66419.3</td>\n",
              "      <td>40.55</td>\n",
              "      <td>84.87</td>\n",
              "      <td>84.87</td>\n",
              "      <td>401000000</td>\n",
              "      <td>401000000</td>\n",
              "      <td>서울</td>\n",
              "      <td>도봉구</td>\n",
              "      <td>21</td>\n",
              "      <td>15</td>\n",
              "    </tr>\n",
              "    <tr>\n",
              "      <th>1929</th>\n",
              "      <td>1295</td>\n",
              "      <td>200000000</td>\n",
              "      <td>20433.8</td>\n",
              "      <td>39.60</td>\n",
              "      <td>114.81</td>\n",
              "      <td>114.81</td>\n",
              "      <td>454000000</td>\n",
              "      <td>363200000</td>\n",
              "      <td>서울</td>\n",
              "      <td>노원구</td>\n",
              "      <td>23</td>\n",
              "      <td>23</td>\n",
              "    </tr>\n",
              "    <tr>\n",
              "      <th>1930</th>\n",
              "      <td>254</td>\n",
              "      <td>354805459</td>\n",
              "      <td>7460.8</td>\n",
              "      <td>19.03</td>\n",
              "      <td>133.98</td>\n",
              "      <td>133.98</td>\n",
              "      <td>1285000000</td>\n",
              "      <td>1028000000</td>\n",
              "      <td>서울</td>\n",
              "      <td>중구</td>\n",
              "      <td>32</td>\n",
              "      <td>19</td>\n",
              "    </tr>\n",
              "    <tr>\n",
              "      <th>1931</th>\n",
              "      <td>1486</td>\n",
              "      <td>80000000</td>\n",
              "      <td>16875.8</td>\n",
              "      <td>42.20</td>\n",
              "      <td>84.94</td>\n",
              "      <td>84.94</td>\n",
              "      <td>407000000</td>\n",
              "      <td>325600000</td>\n",
              "      <td>서울</td>\n",
              "      <td>도봉구</td>\n",
              "      <td>15</td>\n",
              "      <td>11</td>\n",
              "    </tr>\n",
              "    <tr>\n",
              "      <th>1932</th>\n",
              "      <td>937</td>\n",
              "      <td>180000000</td>\n",
              "      <td>32457.1</td>\n",
              "      <td>45.68</td>\n",
              "      <td>102.92</td>\n",
              "      <td>102.92</td>\n",
              "      <td>750000000</td>\n",
              "      <td>600000000</td>\n",
              "      <td>서울</td>\n",
              "      <td>강서구</td>\n",
              "      <td>22</td>\n",
              "      <td>7</td>\n",
              "    </tr>\n",
              "  </tbody>\n",
              "</table>\n",
              "<p>1933 rows × 12 columns</p>\n",
              "</div>"
            ],
            "text/plain": [
              "      Auction_key  Claim_price  ...  Total_floor  Current_floor\n",
              "0            2687   1766037301  ...           45              5\n",
              "1            2577    152946867  ...           70             51\n",
              "2            2197     11326510  ...           15             14\n",
              "3            2642    183581724  ...           20             11\n",
              "4            1958     45887671  ...            7              7\n",
              "...           ...          ...  ...          ...            ...\n",
              "1928         1567    280000000  ...           21             15\n",
              "1929         1295    200000000  ...           23             23\n",
              "1930          254    354805459  ...           32             19\n",
              "1931         1486     80000000  ...           15             11\n",
              "1932          937    180000000  ...           22              7\n",
              "\n",
              "[1933 rows x 12 columns]"
            ]
          },
          "metadata": {
            "tags": []
          },
          "execution_count": 33
        }
      ]
    },
    {
      "cell_type": "code",
      "metadata": {
        "id": "N2TgUe4FbYPg"
      },
      "source": [
        "from sklearn.preprocessing import LabelEncoder\r\n",
        "\r\n",
        "encoder=LabelEncoder()\r\n",
        "\r\n",
        "train['addr_do']=encoder.fit_transform(train['addr_do'])\r\n",
        "train['addr_si']=encoder.fit_transform(train['addr_si'])\r\n",
        "\r\n",
        "test['addr_do']=encoder.fit_transform(test['addr_do'])\r\n",
        "test['addr_si']=encoder.fit_transform(test['addr_si'])"
      ],
      "execution_count": 35,
      "outputs": []
    },
    {
      "cell_type": "code",
      "metadata": {
        "colab": {
          "base_uri": "https://localhost:8080/",
          "height": 422
        },
        "id": "rWWz00Fvb8Ru",
        "outputId": "6ea3a3f7-abeb-4e55-c2bf-2161e5439366"
      },
      "source": [
        "train"
      ],
      "execution_count": 36,
      "outputs": [
        {
          "output_type": "execute_result",
          "data": {
            "text/html": [
              "<div>\n",
              "<style scoped>\n",
              "    .dataframe tbody tr th:only-of-type {\n",
              "        vertical-align: middle;\n",
              "    }\n",
              "\n",
              "    .dataframe tbody tr th {\n",
              "        vertical-align: top;\n",
              "    }\n",
              "\n",
              "    .dataframe thead th {\n",
              "        text-align: right;\n",
              "    }\n",
              "</style>\n",
              "<table border=\"1\" class=\"dataframe\">\n",
              "  <thead>\n",
              "    <tr style=\"text-align: right;\">\n",
              "      <th></th>\n",
              "      <th>Auction_key</th>\n",
              "      <th>Claim_price</th>\n",
              "      <th>Total_land_gross_area</th>\n",
              "      <th>Total_land_real_area</th>\n",
              "      <th>Total_building_area</th>\n",
              "      <th>Total_building_auction_area</th>\n",
              "      <th>Total_appraisal_price</th>\n",
              "      <th>Minimum_sales_price</th>\n",
              "      <th>addr_do</th>\n",
              "      <th>addr_si</th>\n",
              "      <th>Total_floor</th>\n",
              "      <th>Current_floor</th>\n",
              "    </tr>\n",
              "  </thead>\n",
              "  <tbody>\n",
              "    <tr>\n",
              "      <th>0</th>\n",
              "      <td>2687</td>\n",
              "      <td>1766037301</td>\n",
              "      <td>12592.0</td>\n",
              "      <td>37.35</td>\n",
              "      <td>181.77</td>\n",
              "      <td>181.77</td>\n",
              "      <td>836000000</td>\n",
              "      <td>668800000</td>\n",
              "      <td>0</td>\n",
              "      <td>38</td>\n",
              "      <td>45</td>\n",
              "      <td>5</td>\n",
              "    </tr>\n",
              "    <tr>\n",
              "      <th>1</th>\n",
              "      <td>2577</td>\n",
              "      <td>152946867</td>\n",
              "      <td>42478.1</td>\n",
              "      <td>18.76</td>\n",
              "      <td>118.38</td>\n",
              "      <td>118.38</td>\n",
              "      <td>1073000000</td>\n",
              "      <td>858400000</td>\n",
              "      <td>0</td>\n",
              "      <td>38</td>\n",
              "      <td>70</td>\n",
              "      <td>51</td>\n",
              "    </tr>\n",
              "    <tr>\n",
              "      <th>2</th>\n",
              "      <td>2197</td>\n",
              "      <td>11326510</td>\n",
              "      <td>149683.1</td>\n",
              "      <td>71.00</td>\n",
              "      <td>49.94</td>\n",
              "      <td>49.94</td>\n",
              "      <td>119000000</td>\n",
              "      <td>76160000</td>\n",
              "      <td>0</td>\n",
              "      <td>20</td>\n",
              "      <td>15</td>\n",
              "      <td>14</td>\n",
              "    </tr>\n",
              "    <tr>\n",
              "      <th>3</th>\n",
              "      <td>2642</td>\n",
              "      <td>183581724</td>\n",
              "      <td>24405.0</td>\n",
              "      <td>32.98</td>\n",
              "      <td>84.91</td>\n",
              "      <td>84.91</td>\n",
              "      <td>288400000</td>\n",
              "      <td>230720000</td>\n",
              "      <td>0</td>\n",
              "      <td>10</td>\n",
              "      <td>20</td>\n",
              "      <td>11</td>\n",
              "    </tr>\n",
              "    <tr>\n",
              "      <th>4</th>\n",
              "      <td>1958</td>\n",
              "      <td>45887671</td>\n",
              "      <td>774.0</td>\n",
              "      <td>45.18</td>\n",
              "      <td>84.96</td>\n",
              "      <td>84.96</td>\n",
              "      <td>170000000</td>\n",
              "      <td>136000000</td>\n",
              "      <td>0</td>\n",
              "      <td>21</td>\n",
              "      <td>7</td>\n",
              "      <td>7</td>\n",
              "    </tr>\n",
              "    <tr>\n",
              "      <th>...</th>\n",
              "      <td>...</td>\n",
              "      <td>...</td>\n",
              "      <td>...</td>\n",
              "      <td>...</td>\n",
              "      <td>...</td>\n",
              "      <td>...</td>\n",
              "      <td>...</td>\n",
              "      <td>...</td>\n",
              "      <td>...</td>\n",
              "      <td>...</td>\n",
              "      <td>...</td>\n",
              "      <td>...</td>\n",
              "    </tr>\n",
              "    <tr>\n",
              "      <th>1928</th>\n",
              "      <td>1567</td>\n",
              "      <td>280000000</td>\n",
              "      <td>66419.3</td>\n",
              "      <td>40.55</td>\n",
              "      <td>84.87</td>\n",
              "      <td>84.87</td>\n",
              "      <td>401000000</td>\n",
              "      <td>401000000</td>\n",
              "      <td>1</td>\n",
              "      <td>12</td>\n",
              "      <td>21</td>\n",
              "      <td>15</td>\n",
              "    </tr>\n",
              "    <tr>\n",
              "      <th>1929</th>\n",
              "      <td>1295</td>\n",
              "      <td>200000000</td>\n",
              "      <td>20433.8</td>\n",
              "      <td>39.60</td>\n",
              "      <td>114.81</td>\n",
              "      <td>114.81</td>\n",
              "      <td>454000000</td>\n",
              "      <td>363200000</td>\n",
              "      <td>1</td>\n",
              "      <td>11</td>\n",
              "      <td>23</td>\n",
              "      <td>23</td>\n",
              "    </tr>\n",
              "    <tr>\n",
              "      <th>1930</th>\n",
              "      <td>254</td>\n",
              "      <td>354805459</td>\n",
              "      <td>7460.8</td>\n",
              "      <td>19.03</td>\n",
              "      <td>133.98</td>\n",
              "      <td>133.98</td>\n",
              "      <td>1285000000</td>\n",
              "      <td>1028000000</td>\n",
              "      <td>1</td>\n",
              "      <td>36</td>\n",
              "      <td>32</td>\n",
              "      <td>19</td>\n",
              "    </tr>\n",
              "    <tr>\n",
              "      <th>1931</th>\n",
              "      <td>1486</td>\n",
              "      <td>80000000</td>\n",
              "      <td>16875.8</td>\n",
              "      <td>42.20</td>\n",
              "      <td>84.94</td>\n",
              "      <td>84.94</td>\n",
              "      <td>407000000</td>\n",
              "      <td>325600000</td>\n",
              "      <td>1</td>\n",
              "      <td>12</td>\n",
              "      <td>15</td>\n",
              "      <td>11</td>\n",
              "    </tr>\n",
              "    <tr>\n",
              "      <th>1932</th>\n",
              "      <td>937</td>\n",
              "      <td>180000000</td>\n",
              "      <td>32457.1</td>\n",
              "      <td>45.68</td>\n",
              "      <td>102.92</td>\n",
              "      <td>102.92</td>\n",
              "      <td>750000000</td>\n",
              "      <td>600000000</td>\n",
              "      <td>1</td>\n",
              "      <td>3</td>\n",
              "      <td>22</td>\n",
              "      <td>7</td>\n",
              "    </tr>\n",
              "  </tbody>\n",
              "</table>\n",
              "<p>1933 rows × 12 columns</p>\n",
              "</div>"
            ],
            "text/plain": [
              "      Auction_key  Claim_price  ...  Total_floor  Current_floor\n",
              "0            2687   1766037301  ...           45              5\n",
              "1            2577    152946867  ...           70             51\n",
              "2            2197     11326510  ...           15             14\n",
              "3            2642    183581724  ...           20             11\n",
              "4            1958     45887671  ...            7              7\n",
              "...           ...          ...  ...          ...            ...\n",
              "1928         1567    280000000  ...           21             15\n",
              "1929         1295    200000000  ...           23             23\n",
              "1930          254    354805459  ...           32             19\n",
              "1931         1486     80000000  ...           15             11\n",
              "1932          937    180000000  ...           22              7\n",
              "\n",
              "[1933 rows x 12 columns]"
            ]
          },
          "metadata": {
            "tags": []
          },
          "execution_count": 36
        }
      ]
    },
    {
      "cell_type": "code",
      "metadata": {
        "colab": {
          "base_uri": "https://localhost:8080/",
          "height": 402
        },
        "id": "R1f50h4B1Uhs",
        "outputId": "fce3a38c-44b5-4806-dd29-b88b0a303044"
      },
      "source": [
        "result=Auction_result.drop_duplicates('Auction_key')\r\n",
        "feature_result=['Auction_key','Appraisal_price']\r\n",
        "result=result[feature_result]\r\n",
        "result"
      ],
      "execution_count": 37,
      "outputs": [
        {
          "output_type": "execute_result",
          "data": {
            "text/html": [
              "<div>\n",
              "<style scoped>\n",
              "    .dataframe tbody tr th:only-of-type {\n",
              "        vertical-align: middle;\n",
              "    }\n",
              "\n",
              "    .dataframe tbody tr th {\n",
              "        vertical-align: top;\n",
              "    }\n",
              "\n",
              "    .dataframe thead th {\n",
              "        text-align: right;\n",
              "    }\n",
              "</style>\n",
              "<table border=\"1\" class=\"dataframe\">\n",
              "  <thead>\n",
              "    <tr style=\"text-align: right;\">\n",
              "      <th></th>\n",
              "      <th>Auction_key</th>\n",
              "      <th>Appraisal_price</th>\n",
              "    </tr>\n",
              "  </thead>\n",
              "  <tbody>\n",
              "    <tr>\n",
              "      <th>0</th>\n",
              "      <td>1</td>\n",
              "      <td>313000000</td>\n",
              "    </tr>\n",
              "    <tr>\n",
              "      <th>7</th>\n",
              "      <td>2</td>\n",
              "      <td>253000000</td>\n",
              "    </tr>\n",
              "    <tr>\n",
              "      <th>13</th>\n",
              "      <td>3</td>\n",
              "      <td>106000000</td>\n",
              "    </tr>\n",
              "    <tr>\n",
              "      <th>20</th>\n",
              "      <td>4</td>\n",
              "      <td>1600000000</td>\n",
              "    </tr>\n",
              "    <tr>\n",
              "      <th>24</th>\n",
              "      <td>5</td>\n",
              "      <td>355000000</td>\n",
              "    </tr>\n",
              "    <tr>\n",
              "      <th>...</th>\n",
              "      <td>...</td>\n",
              "      <td>...</td>\n",
              "    </tr>\n",
              "    <tr>\n",
              "      <th>8513</th>\n",
              "      <td>2758</td>\n",
              "      <td>240000000</td>\n",
              "    </tr>\n",
              "    <tr>\n",
              "      <th>8516</th>\n",
              "      <td>2759</td>\n",
              "      <td>248000000</td>\n",
              "    </tr>\n",
              "    <tr>\n",
              "      <th>8519</th>\n",
              "      <td>2760</td>\n",
              "      <td>275000000</td>\n",
              "    </tr>\n",
              "    <tr>\n",
              "      <th>8522</th>\n",
              "      <td>2761</td>\n",
              "      <td>315000000</td>\n",
              "    </tr>\n",
              "    <tr>\n",
              "      <th>8525</th>\n",
              "      <td>2762</td>\n",
              "      <td>135000000</td>\n",
              "    </tr>\n",
              "  </tbody>\n",
              "</table>\n",
              "<p>2762 rows × 2 columns</p>\n",
              "</div>"
            ],
            "text/plain": [
              "      Auction_key  Appraisal_price\n",
              "0               1        313000000\n",
              "7               2        253000000\n",
              "13              3        106000000\n",
              "20              4       1600000000\n",
              "24              5        355000000\n",
              "...           ...              ...\n",
              "8513         2758        240000000\n",
              "8516         2759        248000000\n",
              "8519         2760        275000000\n",
              "8522         2761        315000000\n",
              "8525         2762        135000000\n",
              "\n",
              "[2762 rows x 2 columns]"
            ]
          },
          "metadata": {
            "tags": []
          },
          "execution_count": 37
        }
      ]
    },
    {
      "cell_type": "code",
      "metadata": {
        "id": "OTEUqBC413tU"
      },
      "source": [
        "#result data \r\n",
        "def match_result(train,result):\r\n",
        "\r\n",
        "  train['Appraisal_price_result']=0\r\n",
        "  #train['Minimum_sales_price_result']=0\r\n",
        "\r\n",
        "  for i in tqdm(range(train.shape[0])):\r\n",
        "    train_key=train.iloc[i].Auction_key\r\n",
        "\r\n",
        "    try :\r\n",
        "      train_result=result[result.Auction_key==train_key]\r\n",
        "    except :\r\n",
        "      pass\r\n",
        "    train['Appraisal_price_result'][i]=train_result['Appraisal_price']\r\n",
        "   # train['Minimum_sales_price_result'][i]=train_result['Minimum_sales_price']\r\n",
        "    \r\n",
        "\r\n",
        "  return train\r\n",
        "\r\n",
        "\r\n"
      ],
      "execution_count": 38,
      "outputs": []
    },
    {
      "cell_type": "code",
      "metadata": {
        "colab": {
          "base_uri": "https://localhost:8080/",
          "height": 116,
          "referenced_widgets": [
            "1c5dd4ab9a1640f3bdbb211f2679dbba",
            "bef95a21829c405e86ccfbd77720e028",
            "46164a214326423cae633acc2259146e",
            "9ef70b3923b44b38bc73c8e5a5681cc9",
            "7f2f5f80233845b0a734ac4cdd23849f",
            "e3dbd7a7dc234e67a28b8e754672a98f",
            "5da02cef2e864c58b59776d26fb1cd86",
            "a97995b86b2541d4a04bbbd49f75aa4b",
            "7cdc2cea1894406b88bdacb5aa8e7fad",
            "0a986170d60b42a6ab6cf69604c9e228",
            "a151b4f0ba7c4f53944f0c4d4d6d2aed",
            "d8ffed9af3a64b1d9cd2f9d793112599",
            "7cec746713f04a4aad60627f64cd20c2",
            "52bffc2e126e4aad91f3c9c1594fe08f",
            "7d9badcf56c9474d8265ff5a9f7b53b9",
            "a977e7e2edd64e268bd0979c8e848e78"
          ]
        },
        "id": "jR3rSe9-sV0X",
        "outputId": "43cc0892-6948-45d7-8bff-61fefd36799b"
      },
      "source": [
        "train=match_result(train,result)\r\n",
        "test=match_result(test,result)"
      ],
      "execution_count": 39,
      "outputs": [
        {
          "output_type": "display_data",
          "data": {
            "application/vnd.jupyter.widget-view+json": {
              "model_id": "1c5dd4ab9a1640f3bdbb211f2679dbba",
              "version_minor": 0,
              "version_major": 2
            },
            "text/plain": [
              "HBox(children=(FloatProgress(value=0.0, max=1933.0), HTML(value='')))"
            ]
          },
          "metadata": {
            "tags": []
          }
        },
        {
          "output_type": "stream",
          "text": [
            "\n"
          ],
          "name": "stdout"
        },
        {
          "output_type": "display_data",
          "data": {
            "application/vnd.jupyter.widget-view+json": {
              "model_id": "7cdc2cea1894406b88bdacb5aa8e7fad",
              "version_minor": 0,
              "version_major": 2
            },
            "text/plain": [
              "HBox(children=(FloatProgress(value=0.0, max=829.0), HTML(value='')))"
            ]
          },
          "metadata": {
            "tags": []
          }
        },
        {
          "output_type": "stream",
          "text": [
            "\n"
          ],
          "name": "stdout"
        }
      ]
    },
    {
      "cell_type": "code",
      "metadata": {
        "colab": {
          "base_uri": "https://localhost:8080/"
        },
        "id": "jbxMLhV9MOAv",
        "outputId": "375b9196-b783-4659-ef08-652f203fda31"
      },
      "source": [
        "train.columns"
      ],
      "execution_count": 40,
      "outputs": [
        {
          "output_type": "execute_result",
          "data": {
            "text/plain": [
              "Index(['Auction_key', 'Claim_price', 'Total_land_gross_area',\n",
              "       'Total_land_real_area', 'Total_building_area',\n",
              "       'Total_building_auction_area', 'Total_appraisal_price',\n",
              "       'Minimum_sales_price', 'addr_do', 'addr_si', 'Total_floor',\n",
              "       'Current_floor', 'Appraisal_price_result'],\n",
              "      dtype='object')"
            ]
          },
          "metadata": {
            "tags": []
          },
          "execution_count": 40
        }
      ]
    },
    {
      "cell_type": "code",
      "metadata": {
        "colab": {
          "base_uri": "https://localhost:8080/"
        },
        "id": "9sOy5Apyv9di",
        "outputId": "3987363b-13ce-4043-dea9-5644f9a2e8b8"
      },
      "source": [
        "regist=Auction_regist.drop_duplicates('Auction_key')\r\n",
        "feature_regist=['Auction_key','Regist_class'] #Regist_price 거의 0이므로 제거\r\n",
        "regist=regist[feature_regist]\r\n",
        "regist.info()\r\n",
        "print(regist.isna().sum())"
      ],
      "execution_count": 41,
      "outputs": [
        {
          "output_type": "stream",
          "text": [
            "<class 'pandas.core.frame.DataFrame'>\n",
            "Int64Index: 2732 entries, 0 to 20696\n",
            "Data columns (total 2 columns):\n",
            " #   Column        Non-Null Count  Dtype \n",
            "---  ------        --------------  ----- \n",
            " 0   Auction_key   2732 non-null   int64 \n",
            " 1   Regist_class  2732 non-null   object\n",
            "dtypes: int64(1), object(1)\n",
            "memory usage: 64.0+ KB\n",
            "Auction_key     0\n",
            "Regist_class    0\n",
            "dtype: int64\n"
          ],
          "name": "stdout"
        }
      ]
    },
    {
      "cell_type": "code",
      "metadata": {
        "id": "uJfP1yu3GRPr"
      },
      "source": [
        "encoder=LabelEncoder()\r\n",
        "regist_class=encoder.fit_transform(regist['Regist_class'])\r\n",
        "regist['Regist_class']=regist_class"
      ],
      "execution_count": 42,
      "outputs": []
    },
    {
      "cell_type": "code",
      "metadata": {
        "colab": {
          "base_uri": "https://localhost:8080/",
          "height": 402
        },
        "id": "ITT49u-SG28J",
        "outputId": "c017b2ba-c200-4af1-c091-898cb8e5742c"
      },
      "source": [
        "regist"
      ],
      "execution_count": 43,
      "outputs": [
        {
          "output_type": "execute_result",
          "data": {
            "text/html": [
              "<div>\n",
              "<style scoped>\n",
              "    .dataframe tbody tr th:only-of-type {\n",
              "        vertical-align: middle;\n",
              "    }\n",
              "\n",
              "    .dataframe tbody tr th {\n",
              "        vertical-align: top;\n",
              "    }\n",
              "\n",
              "    .dataframe thead th {\n",
              "        text-align: right;\n",
              "    }\n",
              "</style>\n",
              "<table border=\"1\" class=\"dataframe\">\n",
              "  <thead>\n",
              "    <tr style=\"text-align: right;\">\n",
              "      <th></th>\n",
              "      <th>Auction_key</th>\n",
              "      <th>Regist_class</th>\n",
              "    </tr>\n",
              "  </thead>\n",
              "  <tbody>\n",
              "    <tr>\n",
              "      <th>0</th>\n",
              "      <td>1</td>\n",
              "      <td>5</td>\n",
              "    </tr>\n",
              "    <tr>\n",
              "      <th>9</th>\n",
              "      <td>2</td>\n",
              "      <td>0</td>\n",
              "    </tr>\n",
              "    <tr>\n",
              "      <th>10</th>\n",
              "      <td>3</td>\n",
              "      <td>5</td>\n",
              "    </tr>\n",
              "    <tr>\n",
              "      <th>19</th>\n",
              "      <td>4</td>\n",
              "      <td>4</td>\n",
              "    </tr>\n",
              "    <tr>\n",
              "      <th>22</th>\n",
              "      <td>5</td>\n",
              "      <td>5</td>\n",
              "    </tr>\n",
              "    <tr>\n",
              "      <th>...</th>\n",
              "      <td>...</td>\n",
              "      <td>...</td>\n",
              "    </tr>\n",
              "    <tr>\n",
              "      <th>20663</th>\n",
              "      <td>2758</td>\n",
              "      <td>5</td>\n",
              "    </tr>\n",
              "    <tr>\n",
              "      <th>20667</th>\n",
              "      <td>2759</td>\n",
              "      <td>5</td>\n",
              "    </tr>\n",
              "    <tr>\n",
              "      <th>20677</th>\n",
              "      <td>2760</td>\n",
              "      <td>6</td>\n",
              "    </tr>\n",
              "    <tr>\n",
              "      <th>20690</th>\n",
              "      <td>2761</td>\n",
              "      <td>5</td>\n",
              "    </tr>\n",
              "    <tr>\n",
              "      <th>20696</th>\n",
              "      <td>2762</td>\n",
              "      <td>5</td>\n",
              "    </tr>\n",
              "  </tbody>\n",
              "</table>\n",
              "<p>2732 rows × 2 columns</p>\n",
              "</div>"
            ],
            "text/plain": [
              "       Auction_key  Regist_class\n",
              "0                1             5\n",
              "9                2             0\n",
              "10               3             5\n",
              "19               4             4\n",
              "22               5             5\n",
              "...            ...           ...\n",
              "20663         2758             5\n",
              "20667         2759             5\n",
              "20677         2760             6\n",
              "20690         2761             5\n",
              "20696         2762             5\n",
              "\n",
              "[2732 rows x 2 columns]"
            ]
          },
          "metadata": {
            "tags": []
          },
          "execution_count": 43
        }
      ]
    },
    {
      "cell_type": "code",
      "metadata": {
        "id": "mFEuXx70u8Eu"
      },
      "source": [
        "#regist data \r\n",
        "def match_regist(train,result):\r\n",
        "\r\n",
        "\r\n",
        "  train['Regist_class']=np.nan\r\n",
        "  for i in tqdm(range(train.shape[0])):\r\n",
        "    train_key=train.iloc[i].Auction_key\r\n",
        "    try:\r\n",
        "      train_regist=regist[regist.Auction_key==train_key]\r\n",
        "    except :\r\n",
        "      train_regist=np.nan\r\n",
        "      pass\r\n",
        "\r\n",
        "    if len(train_regist)>=1:\r\n",
        "      train['Regist_class'][i]=train_regist['Regist_class']\r\n",
        "      #print(train['Regist_class'][i])\r\n",
        "      #print(train_regist)\r\n",
        "    else :\r\n",
        "      train['Regist_class'][i]=np.nan\r\n",
        "    \r\n",
        "  return train\r\n",
        "\r\n",
        "\r\n"
      ],
      "execution_count": 44,
      "outputs": []
    },
    {
      "cell_type": "code",
      "metadata": {
        "colab": {
          "base_uri": "https://localhost:8080/",
          "height": 116,
          "referenced_widgets": [
            "df7443f0bdf14b918c5fd8d72f418c29",
            "5efd6c967d96484e95256e01e9302c6f",
            "d73406f1a56a49588f3c54ecc03521b6",
            "7a2cc3343c3c4f2480e37b106d20cb7b",
            "c8cf10faffe94ee1825aeba0a0dd4458",
            "cd953334c78e44c1bb5f5113b1c10ab5",
            "fb420427378649899e1a80a0d901ebef",
            "5bedb346773f42c084da54e0bb836eda",
            "1b89908dfbad475f8b1658563cc5aee3",
            "0cc310f4082f49fa8519e058c87734a4",
            "7dbff96fa350437a8bbc2eee689a9dba",
            "c456274c4ed544229cfd6d0484c315ef",
            "909e642e705e4a91aef23a15d1912136",
            "c269a04283ad431eb3e3a469d50c21bc",
            "e930f592a5d54b6eaf9336acdc9452dd",
            "ae3b7ab5d7f14394bce6ed01d2892ddb"
          ]
        },
        "id": "Wzj31-RvIpJs",
        "outputId": "b245e4d8-4250-469c-c6a4-e03ecb1c1abd"
      },
      "source": [
        "train=match_regist(train,regist)\r\n",
        "test=match_regist(test,regist)"
      ],
      "execution_count": 45,
      "outputs": [
        {
          "output_type": "display_data",
          "data": {
            "application/vnd.jupyter.widget-view+json": {
              "model_id": "df7443f0bdf14b918c5fd8d72f418c29",
              "version_minor": 0,
              "version_major": 2
            },
            "text/plain": [
              "HBox(children=(FloatProgress(value=0.0, max=1933.0), HTML(value='')))"
            ]
          },
          "metadata": {
            "tags": []
          }
        },
        {
          "output_type": "stream",
          "text": [
            "\n"
          ],
          "name": "stdout"
        },
        {
          "output_type": "display_data",
          "data": {
            "application/vnd.jupyter.widget-view+json": {
              "model_id": "1b89908dfbad475f8b1658563cc5aee3",
              "version_minor": 0,
              "version_major": 2
            },
            "text/plain": [
              "HBox(children=(FloatProgress(value=0.0, max=829.0), HTML(value='')))"
            ]
          },
          "metadata": {
            "tags": []
          }
        },
        {
          "output_type": "stream",
          "text": [
            "\n"
          ],
          "name": "stdout"
        }
      ]
    },
    {
      "cell_type": "code",
      "metadata": {
        "colab": {
          "base_uri": "https://localhost:8080/"
        },
        "id": "CO1KwrKtDr7Q",
        "outputId": "11428e06-9f9b-4241-e728-b00cbaea6621"
      },
      "source": [
        "print(\"train: \",train.isna().sum())\r\n",
        "print(\"test: \",test.isna().sum())"
      ],
      "execution_count": 46,
      "outputs": [
        {
          "output_type": "stream",
          "text": [
            "train:  Auction_key                     0\n",
            "Claim_price                     0\n",
            "Total_land_gross_area           0\n",
            "Total_land_real_area            0\n",
            "Total_building_area             0\n",
            "Total_building_auction_area     0\n",
            "Total_appraisal_price           0\n",
            "Minimum_sales_price             0\n",
            "addr_do                         0\n",
            "addr_si                         0\n",
            "Total_floor                     0\n",
            "Current_floor                   0\n",
            "Appraisal_price_result          0\n",
            "Regist_class                   20\n",
            "dtype: int64\n",
            "test:  Auction_key                     0\n",
            "Claim_price                     0\n",
            "Total_land_gross_area           0\n",
            "Total_land_real_area            0\n",
            "Total_building_area             0\n",
            "Total_building_auction_area     0\n",
            "Total_appraisal_price           0\n",
            "Minimum_sales_price             0\n",
            "addr_do                         0\n",
            "addr_si                         0\n",
            "Total_floor                     0\n",
            "Current_floor                   0\n",
            "Appraisal_price_result          0\n",
            "Regist_class                   10\n",
            "dtype: int64\n"
          ],
          "name": "stdout"
        }
      ]
    },
    {
      "cell_type": "code",
      "metadata": {
        "id": "Wk2PROvRakJI"
      },
      "source": [
        "train=train.fillna(-1)\r\n",
        "test=test.fillna(-1)"
      ],
      "execution_count": 47,
      "outputs": []
    },
    {
      "cell_type": "code",
      "metadata": {
        "colab": {
          "base_uri": "https://localhost:8080/"
        },
        "id": "XRilWsNaL1GE",
        "outputId": "feaa53dd-7220-47e8-915d-04e6e2bdfb95"
      },
      "source": [
        "rent=Auction_rent.drop_duplicates('Auctiuon_key')\r\n",
        "feature_rent=['Auctiuon_key','Rent_deposit','Rent_monthly_price']\r\n",
        "rent=rent[feature_rent]\r\n",
        "print(rent.isna().sum())\r\n",
        "rent.info()"
      ],
      "execution_count": 48,
      "outputs": [
        {
          "output_type": "stream",
          "text": [
            "Auctiuon_key          0\n",
            "Rent_deposit          0\n",
            "Rent_monthly_price    0\n",
            "dtype: int64\n",
            "<class 'pandas.core.frame.DataFrame'>\n",
            "Int64Index: 1244 entries, 0 to 1555\n",
            "Data columns (total 3 columns):\n",
            " #   Column              Non-Null Count  Dtype\n",
            "---  ------              --------------  -----\n",
            " 0   Auctiuon_key        1244 non-null   int64\n",
            " 1   Rent_deposit        1244 non-null   int64\n",
            " 2   Rent_monthly_price  1244 non-null   int64\n",
            "dtypes: int64(3)\n",
            "memory usage: 38.9 KB\n"
          ],
          "name": "stdout"
        }
      ]
    },
    {
      "cell_type": "code",
      "metadata": {
        "colab": {
          "base_uri": "https://localhost:8080/",
          "height": 402
        },
        "id": "IDV0Hf9RXkN8",
        "outputId": "cd8d127a-7b67-4896-81e1-b772278a32df"
      },
      "source": [
        "rent"
      ],
      "execution_count": 49,
      "outputs": [
        {
          "output_type": "execute_result",
          "data": {
            "text/html": [
              "<div>\n",
              "<style scoped>\n",
              "    .dataframe tbody tr th:only-of-type {\n",
              "        vertical-align: middle;\n",
              "    }\n",
              "\n",
              "    .dataframe tbody tr th {\n",
              "        vertical-align: top;\n",
              "    }\n",
              "\n",
              "    .dataframe thead th {\n",
              "        text-align: right;\n",
              "    }\n",
              "</style>\n",
              "<table border=\"1\" class=\"dataframe\">\n",
              "  <thead>\n",
              "    <tr style=\"text-align: right;\">\n",
              "      <th></th>\n",
              "      <th>Auctiuon_key</th>\n",
              "      <th>Rent_deposit</th>\n",
              "      <th>Rent_monthly_price</th>\n",
              "    </tr>\n",
              "  </thead>\n",
              "  <tbody>\n",
              "    <tr>\n",
              "      <th>0</th>\n",
              "      <td>1</td>\n",
              "      <td>53000000</td>\n",
              "      <td>250000</td>\n",
              "    </tr>\n",
              "    <tr>\n",
              "      <th>1</th>\n",
              "      <td>2</td>\n",
              "      <td>60000000</td>\n",
              "      <td>0</td>\n",
              "    </tr>\n",
              "    <tr>\n",
              "      <th>3</th>\n",
              "      <td>3</td>\n",
              "      <td>0</td>\n",
              "      <td>0</td>\n",
              "    </tr>\n",
              "    <tr>\n",
              "      <th>5</th>\n",
              "      <td>4</td>\n",
              "      <td>0</td>\n",
              "      <td>0</td>\n",
              "    </tr>\n",
              "    <tr>\n",
              "      <th>8</th>\n",
              "      <td>7</td>\n",
              "      <td>50000000</td>\n",
              "      <td>0</td>\n",
              "    </tr>\n",
              "    <tr>\n",
              "      <th>...</th>\n",
              "      <td>...</td>\n",
              "      <td>...</td>\n",
              "      <td>...</td>\n",
              "    </tr>\n",
              "    <tr>\n",
              "      <th>1548</th>\n",
              "      <td>2745</td>\n",
              "      <td>130000000</td>\n",
              "      <td>0</td>\n",
              "    </tr>\n",
              "    <tr>\n",
              "      <th>1549</th>\n",
              "      <td>2749</td>\n",
              "      <td>100000000</td>\n",
              "      <td>0</td>\n",
              "    </tr>\n",
              "    <tr>\n",
              "      <th>1553</th>\n",
              "      <td>2754</td>\n",
              "      <td>0</td>\n",
              "      <td>0</td>\n",
              "    </tr>\n",
              "    <tr>\n",
              "      <th>1554</th>\n",
              "      <td>2756</td>\n",
              "      <td>0</td>\n",
              "      <td>0</td>\n",
              "    </tr>\n",
              "    <tr>\n",
              "      <th>1555</th>\n",
              "      <td>2761</td>\n",
              "      <td>0</td>\n",
              "      <td>0</td>\n",
              "    </tr>\n",
              "  </tbody>\n",
              "</table>\n",
              "<p>1244 rows × 3 columns</p>\n",
              "</div>"
            ],
            "text/plain": [
              "      Auctiuon_key  Rent_deposit  Rent_monthly_price\n",
              "0                1      53000000              250000\n",
              "1                2      60000000                   0\n",
              "3                3             0                   0\n",
              "5                4             0                   0\n",
              "8                7      50000000                   0\n",
              "...            ...           ...                 ...\n",
              "1548          2745     130000000                   0\n",
              "1549          2749     100000000                   0\n",
              "1553          2754             0                   0\n",
              "1554          2756             0                   0\n",
              "1555          2761             0                   0\n",
              "\n",
              "[1244 rows x 3 columns]"
            ]
          },
          "metadata": {
            "tags": []
          },
          "execution_count": 49
        }
      ]
    },
    {
      "cell_type": "code",
      "metadata": {
        "id": "emze1Qh_M_73"
      },
      "source": [
        "def match_rent(train,rent):\r\n",
        "\r\n",
        "  \r\n",
        "  train['Rent_deposit']=np.nan\r\n",
        "  train['Rent_monthly_price']=np.nan\r\n",
        "  \r\n",
        "  for i in tqdm(range(train.shape[0])):\r\n",
        "    \r\n",
        "    train_key=train.iloc[i].Auction_key\r\n",
        "\r\n",
        "    try:\r\n",
        "      train_rent=rent[rent.Auctiuon_key==train_key]\r\n",
        "    except :\r\n",
        "  \r\n",
        "      train_rent=np.nan\r\n",
        "      pass\r\n",
        "    if len(train_rent)>=1:\r\n",
        "        train['Rent_deposit'][i]=train_rent['Rent_deposit']\r\n",
        "        train['Rent_monthly_price'][i]=train_rent['Rent_monthly_price']\r\n",
        "        #print(train['Rent_deposit'][i])\r\n",
        "        #print(train_rent)\r\n",
        "    else :\r\n",
        "      train['Rent_deposit'][i]=np.nan\r\n",
        "      train['Rent_monthly_price'][i]=np.nan\r\n",
        "\r\n",
        "  return train"
      ],
      "execution_count": 50,
      "outputs": []
    },
    {
      "cell_type": "code",
      "metadata": {
        "colab": {
          "base_uri": "https://localhost:8080/",
          "height": 116,
          "referenced_widgets": [
            "6211499322a848458006b0e3a6000c8e",
            "83bac711a73e457eb6f11b9e7831478b",
            "478c757efe8e4da19b1f0c451fa2c492",
            "4b9dcbffaea94a509e157efd3b861d83",
            "0cad9bcfa05749b781a4b20e1b6a9c1b",
            "a690b526af614d489745d222f8b1781d",
            "1b81d7d4eb3c43d4a1682ad9078ddc1b",
            "6032d9704f7e40808b40c47bdba5ec70",
            "b0d21bcc851c440c9bcf5f9a73edc335",
            "ead8a1a9c9ec4fd189093ec97a54089f",
            "22e5e1e3afb941fca5fa2edaa1c9f681",
            "4d33c03cd2484a1999ba99343cd72931",
            "bf61f2780c0b412d94ab0ba0fa260dde",
            "f1d83b34dba7430f807ae28d6df88395",
            "2e761299d2224a75ac8ec6066e1f561c",
            "3340a1b131d84c01b44b209b73744afc"
          ]
        },
        "id": "EbuCl5IwWp6e",
        "outputId": "11f44c76-61e5-41bc-8392-2dd9c722806c"
      },
      "source": [
        "train=match_rent(train,rent)\r\n",
        "test=match_rent(test,rent)"
      ],
      "execution_count": 51,
      "outputs": [
        {
          "output_type": "display_data",
          "data": {
            "application/vnd.jupyter.widget-view+json": {
              "model_id": "6211499322a848458006b0e3a6000c8e",
              "version_minor": 0,
              "version_major": 2
            },
            "text/plain": [
              "HBox(children=(FloatProgress(value=0.0, max=1933.0), HTML(value='')))"
            ]
          },
          "metadata": {
            "tags": []
          }
        },
        {
          "output_type": "stream",
          "text": [
            "\n"
          ],
          "name": "stdout"
        },
        {
          "output_type": "display_data",
          "data": {
            "application/vnd.jupyter.widget-view+json": {
              "model_id": "b0d21bcc851c440c9bcf5f9a73edc335",
              "version_minor": 0,
              "version_major": 2
            },
            "text/plain": [
              "HBox(children=(FloatProgress(value=0.0, max=829.0), HTML(value='')))"
            ]
          },
          "metadata": {
            "tags": []
          }
        },
        {
          "output_type": "stream",
          "text": [
            "\n"
          ],
          "name": "stdout"
        }
      ]
    },
    {
      "cell_type": "code",
      "metadata": {
        "colab": {
          "base_uri": "https://localhost:8080/",
          "height": 422
        },
        "id": "WnfLCxB6SKwA",
        "outputId": "b87d7153-7b31-40a5-f893-6865ae4674d8"
      },
      "source": [
        "test"
      ],
      "execution_count": 67,
      "outputs": [
        {
          "output_type": "execute_result",
          "data": {
            "text/html": [
              "<div>\n",
              "<style scoped>\n",
              "    .dataframe tbody tr th:only-of-type {\n",
              "        vertical-align: middle;\n",
              "    }\n",
              "\n",
              "    .dataframe tbody tr th {\n",
              "        vertical-align: top;\n",
              "    }\n",
              "\n",
              "    .dataframe thead th {\n",
              "        text-align: right;\n",
              "    }\n",
              "</style>\n",
              "<table border=\"1\" class=\"dataframe\">\n",
              "  <thead>\n",
              "    <tr style=\"text-align: right;\">\n",
              "      <th></th>\n",
              "      <th>Auction_key</th>\n",
              "      <th>Claim_price</th>\n",
              "      <th>Total_land_gross_area</th>\n",
              "      <th>Total_land_real_area</th>\n",
              "      <th>Total_building_area</th>\n",
              "      <th>Total_building_auction_area</th>\n",
              "      <th>Total_appraisal_price</th>\n",
              "      <th>Minimum_sales_price</th>\n",
              "      <th>addr_do</th>\n",
              "      <th>addr_si</th>\n",
              "      <th>Total_floor</th>\n",
              "      <th>Current_floor</th>\n",
              "      <th>Appraisal_price_result</th>\n",
              "      <th>Regist_class</th>\n",
              "      <th>Rent_deposit</th>\n",
              "      <th>Rent_monthly_price</th>\n",
              "    </tr>\n",
              "  </thead>\n",
              "  <tbody>\n",
              "    <tr>\n",
              "      <th>0</th>\n",
              "      <td>1778</td>\n",
              "      <td>1087000000</td>\n",
              "      <td>532.0</td>\n",
              "      <td>18.22</td>\n",
              "      <td>107.28</td>\n",
              "      <td>107.28</td>\n",
              "      <td>244565981</td>\n",
              "      <td>100174000</td>\n",
              "      <td>0</td>\n",
              "      <td>15</td>\n",
              "      <td>15</td>\n",
              "      <td>5</td>\n",
              "      <td>235000000</td>\n",
              "      <td>-1.0</td>\n",
              "      <td>0.0</td>\n",
              "      <td>0.0</td>\n",
              "    </tr>\n",
              "    <tr>\n",
              "      <th>1</th>\n",
              "      <td>1779</td>\n",
              "      <td>1087000000</td>\n",
              "      <td>532.0</td>\n",
              "      <td>16.65</td>\n",
              "      <td>98.08</td>\n",
              "      <td>98.08</td>\n",
              "      <td>228745632</td>\n",
              "      <td>117118000</td>\n",
              "      <td>0</td>\n",
              "      <td>15</td>\n",
              "      <td>15</td>\n",
              "      <td>6</td>\n",
              "      <td>220000000</td>\n",
              "      <td>-1.0</td>\n",
              "      <td>0.0</td>\n",
              "      <td>0.0</td>\n",
              "    </tr>\n",
              "    <tr>\n",
              "      <th>2</th>\n",
              "      <td>1784</td>\n",
              "      <td>1087000000</td>\n",
              "      <td>532.0</td>\n",
              "      <td>18.22</td>\n",
              "      <td>107.28</td>\n",
              "      <td>107.28</td>\n",
              "      <td>249565981</td>\n",
              "      <td>102222000</td>\n",
              "      <td>0</td>\n",
              "      <td>15</td>\n",
              "      <td>15</td>\n",
              "      <td>8</td>\n",
              "      <td>240000000</td>\n",
              "      <td>-1.0</td>\n",
              "      <td>NaN</td>\n",
              "      <td>NaN</td>\n",
              "    </tr>\n",
              "    <tr>\n",
              "      <th>3</th>\n",
              "      <td>1786</td>\n",
              "      <td>1087000000</td>\n",
              "      <td>532.0</td>\n",
              "      <td>18.22</td>\n",
              "      <td>107.28</td>\n",
              "      <td>107.28</td>\n",
              "      <td>249565981</td>\n",
              "      <td>102222000</td>\n",
              "      <td>0</td>\n",
              "      <td>15</td>\n",
              "      <td>15</td>\n",
              "      <td>9</td>\n",
              "      <td>240000000</td>\n",
              "      <td>-1.0</td>\n",
              "      <td>0.0</td>\n",
              "      <td>0.0</td>\n",
              "    </tr>\n",
              "    <tr>\n",
              "      <th>4</th>\n",
              "      <td>1790</td>\n",
              "      <td>1087000000</td>\n",
              "      <td>532.0</td>\n",
              "      <td>18.22</td>\n",
              "      <td>107.28</td>\n",
              "      <td>107.28</td>\n",
              "      <td>249565981</td>\n",
              "      <td>102222000</td>\n",
              "      <td>0</td>\n",
              "      <td>15</td>\n",
              "      <td>15</td>\n",
              "      <td>11</td>\n",
              "      <td>240000000</td>\n",
              "      <td>-1.0</td>\n",
              "      <td>0.0</td>\n",
              "      <td>0.0</td>\n",
              "    </tr>\n",
              "    <tr>\n",
              "      <th>...</th>\n",
              "      <td>...</td>\n",
              "      <td>...</td>\n",
              "      <td>...</td>\n",
              "      <td>...</td>\n",
              "      <td>...</td>\n",
              "      <td>...</td>\n",
              "      <td>...</td>\n",
              "      <td>...</td>\n",
              "      <td>...</td>\n",
              "      <td>...</td>\n",
              "      <td>...</td>\n",
              "      <td>...</td>\n",
              "      <td>...</td>\n",
              "      <td>...</td>\n",
              "      <td>...</td>\n",
              "      <td>...</td>\n",
              "    </tr>\n",
              "    <tr>\n",
              "      <th>824</th>\n",
              "      <td>1762</td>\n",
              "      <td>4249164200</td>\n",
              "      <td>3460.9</td>\n",
              "      <td>13.87</td>\n",
              "      <td>84.91</td>\n",
              "      <td>84.91</td>\n",
              "      <td>420000000</td>\n",
              "      <td>336000000</td>\n",
              "      <td>1</td>\n",
              "      <td>26</td>\n",
              "      <td>23</td>\n",
              "      <td>23</td>\n",
              "      <td>420000000</td>\n",
              "      <td>6.0</td>\n",
              "      <td>0.0</td>\n",
              "      <td>0.0</td>\n",
              "    </tr>\n",
              "    <tr>\n",
              "      <th>825</th>\n",
              "      <td>1767</td>\n",
              "      <td>320000000</td>\n",
              "      <td>13578.9</td>\n",
              "      <td>72.81</td>\n",
              "      <td>150.66</td>\n",
              "      <td>150.66</td>\n",
              "      <td>580000000</td>\n",
              "      <td>464000000</td>\n",
              "      <td>1</td>\n",
              "      <td>12</td>\n",
              "      <td>14</td>\n",
              "      <td>3</td>\n",
              "      <td>580000000</td>\n",
              "      <td>5.0</td>\n",
              "      <td>NaN</td>\n",
              "      <td>NaN</td>\n",
              "    </tr>\n",
              "    <tr>\n",
              "      <th>826</th>\n",
              "      <td>1770</td>\n",
              "      <td>160000000</td>\n",
              "      <td>57491.8</td>\n",
              "      <td>34.03</td>\n",
              "      <td>49.77</td>\n",
              "      <td>49.77</td>\n",
              "      <td>293000000</td>\n",
              "      <td>234400000</td>\n",
              "      <td>1</td>\n",
              "      <td>36</td>\n",
              "      <td>12</td>\n",
              "      <td>5</td>\n",
              "      <td>293000000</td>\n",
              "      <td>5.0</td>\n",
              "      <td>0.0</td>\n",
              "      <td>0.0</td>\n",
              "    </tr>\n",
              "    <tr>\n",
              "      <th>827</th>\n",
              "      <td>1772</td>\n",
              "      <td>230000000</td>\n",
              "      <td>27710.2</td>\n",
              "      <td>42.54</td>\n",
              "      <td>84.84</td>\n",
              "      <td>84.84</td>\n",
              "      <td>492000000</td>\n",
              "      <td>492000000</td>\n",
              "      <td>1</td>\n",
              "      <td>26</td>\n",
              "      <td>17</td>\n",
              "      <td>16</td>\n",
              "      <td>492000000</td>\n",
              "      <td>5.0</td>\n",
              "      <td>180000000.0</td>\n",
              "      <td>200000.0</td>\n",
              "    </tr>\n",
              "    <tr>\n",
              "      <th>828</th>\n",
              "      <td>1774</td>\n",
              "      <td>6136088</td>\n",
              "      <td>10987.8</td>\n",
              "      <td>33.16</td>\n",
              "      <td>84.99</td>\n",
              "      <td>84.99</td>\n",
              "      <td>400000000</td>\n",
              "      <td>400000000</td>\n",
              "      <td>1</td>\n",
              "      <td>36</td>\n",
              "      <td>22</td>\n",
              "      <td>12</td>\n",
              "      <td>400000000</td>\n",
              "      <td>5.0</td>\n",
              "      <td>220000000.0</td>\n",
              "      <td>0.0</td>\n",
              "    </tr>\n",
              "  </tbody>\n",
              "</table>\n",
              "<p>829 rows × 16 columns</p>\n",
              "</div>"
            ],
            "text/plain": [
              "     Auction_key  Claim_price  ...  Rent_deposit  Rent_monthly_price\n",
              "0           1778   1087000000  ...           0.0                 0.0\n",
              "1           1779   1087000000  ...           0.0                 0.0\n",
              "2           1784   1087000000  ...           NaN                 NaN\n",
              "3           1786   1087000000  ...           0.0                 0.0\n",
              "4           1790   1087000000  ...           0.0                 0.0\n",
              "..           ...          ...  ...           ...                 ...\n",
              "824         1762   4249164200  ...           0.0                 0.0\n",
              "825         1767    320000000  ...           NaN                 NaN\n",
              "826         1770    160000000  ...           0.0                 0.0\n",
              "827         1772    230000000  ...   180000000.0            200000.0\n",
              "828         1774      6136088  ...   220000000.0                 0.0\n",
              "\n",
              "[829 rows x 16 columns]"
            ]
          },
          "metadata": {
            "tags": []
          },
          "execution_count": 67
        }
      ]
    },
    {
      "cell_type": "code",
      "metadata": {
        "id": "zQMEDLTZa3cd"
      },
      "source": [
        "#impute\r\n",
        "from sklearn.impute import SimpleImputer\r\n",
        "\r\n",
        "imputer=SimpleImputer(strategy='median')\r\n",
        "train_impute=imputer.fit_transform(train)\r\n",
        "test_impute=imputer.transform(test)"
      ],
      "execution_count": 54,
      "outputs": []
    },
    {
      "cell_type": "markdown",
      "metadata": {
        "id": "O_m3D0ioRGrZ"
      },
      "source": [
        "# train, test 정규화"
      ]
    },
    {
      "cell_type": "code",
      "metadata": {
        "id": "I-gCoec3ZpFG"
      },
      "source": [
        "from sklearn.preprocessing import StandardScaler\r\n",
        "\r\n",
        "scaler=StandardScaler()\r\n",
        "\r\n",
        "x_train_std=scaler.fit_transform(train_impute)\r\n",
        "x_test_std=scaler.transform(test_impute)\r\n",
        "\r\n"
      ],
      "execution_count": 68,
      "outputs": []
    },
    {
      "cell_type": "code",
      "metadata": {
        "colab": {
          "base_uri": "https://localhost:8080/"
        },
        "id": "qoW8t3joefiT",
        "outputId": "755527fc-dfa6-4eb4-b39b-7fbcc9feee99"
      },
      "source": [
        "print(x_train_std)"
      ],
      "execution_count": 56,
      "outputs": [
        {
          "output_type": "stream",
          "text": [
            "[[ 1.63042934  1.04345617 -0.23300776 ...  0.19296819 -0.24493985\n",
            "  -0.17864846]\n",
            " [ 1.49318035 -0.16257208  0.08359373 ...  0.19296819  0.30780423\n",
            "   9.4882976 ]\n",
            " [ 1.01904747 -0.26845465  1.21928096 ...  0.19296819 -0.32390329\n",
            "  -0.17864846]\n",
            " ...\n",
            " [-1.40526883 -0.01165236 -0.28736566 ...  0.19296819  5.44042785\n",
            "  -0.17864846]\n",
            " [ 0.13191989 -0.21711086 -0.18762688 ...  0.19296819 -0.24493985\n",
            "  -0.17864846]\n",
            " [-0.55307736 -0.14234579 -0.02256477 ...  0.19296819 -0.24493985\n",
            "  -0.17864846]]\n"
          ],
          "name": "stdout"
        }
      ]
    },
    {
      "cell_type": "markdown",
      "metadata": {
        "id": "TqoE8MCYQZfN"
      },
      "source": [
        "# PCA"
      ]
    },
    {
      "cell_type": "code",
      "metadata": {
        "colab": {
          "base_uri": "https://localhost:8080/"
        },
        "id": "cWacDF5mQb75",
        "outputId": "ada06b1e-17c5-4967-ed8d-469d1e3b6f89"
      },
      "source": [
        "# 고유값, 고유벡터 구하기\r\n",
        "\r\n",
        "scov=np.cov(x_train_std.T)\r\n",
        "eigen_vals, eigen_vecs=np.linalg.eig(scov)\r\n",
        "print('Eigenvalues \\n%s' %eigen_vals)"
      ],
      "execution_count": 57,
      "outputs": [
        {
          "output_type": "stream",
          "text": [
            "Eigenvalues \n",
            "[5.71185937e+00 2.12462017e+00 1.67550543e+00 8.25926472e-01\n",
            " 8.63803008e-01 1.06071657e+00 9.45426742e-01 9.99199060e-01\n",
            " 1.02046019e+00 2.95743089e-01 2.55074733e-01 1.51755453e-01\n",
            " 5.30453679e-02 1.87065245e-02 6.04104503e-03 3.98351647e-04]\n"
          ],
          "name": "stdout"
        }
      ]
    },
    {
      "cell_type": "code",
      "metadata": {
        "colab": {
          "base_uri": "https://localhost:8080/",
          "height": 279
        },
        "id": "XWPDpyMNUo-i",
        "outputId": "b1439933-e3fc-46b6-ae45-603b8fb328c8"
      },
      "source": [
        "# Explained variance ratio\r\n",
        "tot = sum(eigen_vals)\r\n",
        "var_exp = [(i / tot) for i in sorted(eigen_vals, reverse=True)]\r\n",
        "cum_var_exp = np.cumsum(var_exp)\r\n",
        "\r\n",
        "import matplotlib.pyplot as plt\r\n",
        "plt.bar(range(1,17), var_exp, alpha=0.5, align='center',label='individual explained variance')\r\n",
        "plt.step(range(1,17), cum_var_exp, where='mid',label='cumulative explained variance')\r\n",
        "plt.ylabel('Explained variance ratio')\r\n",
        "plt.xlabel('Principal component index')\r\n",
        "plt.legend(loc='best')\r\n",
        "plt.show()"
      ],
      "execution_count": 60,
      "outputs": [
        {
          "output_type": "display_data",
          "data": {
            "image/png": "[encoded data removed]",
            "text/plain": [
              "<Figure size 432x288 with 1 Axes>"
            ]
          },
          "metadata": {
            "tags": [],
            "needs_background": "light"
          }
        }
      ]
    },
    {
      "cell_type": "code",
      "metadata": {
        "id": "U8unJgLOVFcC"
      },
      "source": [
        "# PCA를 통해 차원 축소 =>하지는 않음\r\n",
        "from sklearn.decomposition import PCA\r\n",
        "\r\n",
        "lpca = PCA(n_components=5)\r\n",
        "x_train_pca = lpca.fit_transform(train_std)\r\n",
        "x_test_pca = lpca.transform(test_std)\r\n"
      ],
      "execution_count": null,
      "outputs": []
    },
    {
      "cell_type": "code",
      "metadata": {
        "colab": {
          "base_uri": "https://localhost:8080/"
        },
        "id": "VK8xz3djaKWL",
        "outputId": "f0eb922d-57d0-435b-a3ac-83a41a1324ff"
      },
      "source": [
        "from sklearn.tree import DecisionTreeRegressor\r\n",
        "from sklearn.ensemble import RandomForestRegressor\r\n",
        "from sklearn.model_selection import GridSearchCV\r\n",
        "\r\n",
        "tree=DecisionTreeRegressor(random_state=1)\r\n",
        "randomforest=RandomForestRegressor(random_state=1)\r\n",
        "\r\n",
        "params={'max_depth':[5,7,9],\r\n",
        "        'n_estimators':[100,300,500,700]\r\n",
        "        }\r\n",
        "\r\n",
        "grid_randomforest=GridSearchCV(estimator=randomforest,\r\n",
        "                               param_grid=params,\r\n",
        "                               scoring='neg_mean_squared_error',\r\n",
        "                               cv=10)\r\n",
        "\r\n",
        "grid_randomforest.fit(x_train_std,y)\r\n",
        "\r\n"
      ],
      "execution_count": 61,
      "outputs": [
        {
          "output_type": "execute_result",
          "data": {
            "text/plain": [
              "GridSearchCV(cv=10, error_score=nan,\n",
              "             estimator=RandomForestRegressor(bootstrap=True, ccp_alpha=0.0,\n",
              "                                             criterion='mse', max_depth=None,\n",
              "                                             max_features='auto',\n",
              "                                             max_leaf_nodes=None,\n",
              "                                             max_samples=None,\n",
              "                                             min_impurity_decrease=0.0,\n",
              "                                             min_impurity_split=None,\n",
              "                                             min_samples_leaf=1,\n",
              "                                             min_samples_split=2,\n",
              "                                             min_weight_fraction_leaf=0.0,\n",
              "                                             n_estimators=100, n_jobs=None,\n",
              "                                             oob_score=False, random_state=1,\n",
              "                                             verbose=0, warm_start=False),\n",
              "             iid='deprecated', n_jobs=None,\n",
              "             param_grid={'max_depth': [5, 7, 9],\n",
              "                         'n_estimators': [100, 300, 500, 700]},\n",
              "             pre_dispatch='2*n_jobs', refit=True, return_train_score=False,\n",
              "             scoring='neg_mean_squared_error', verbose=0)"
            ]
          },
          "metadata": {
            "tags": []
          },
          "execution_count": 61
        }
      ]
    },
    {
      "cell_type": "code",
      "metadata": {
        "colab": {
          "base_uri": "https://localhost:8080/"
        },
        "id": "PUbfwqN_V5E1",
        "outputId": "8360c2db-a706-45e5-d112-933f595aba7e"
      },
      "source": [
        "from sklearn.model_selection import cross_val_score # 교차타당도 \r\n",
        "\r\n",
        "scores = cross_val_score(estimator=grid_randomforest,X=x_train_std,y=y,cv=10,scoring='neg_mean_squared_error')\r\n",
        "print(\"ROC AUC: %0.3f (+/- %0.3f)\", (scores.mean(), scores.std()))"
      ],
      "execution_count": null,
      "outputs": [
        {
          "output_type": "stream",
          "text": [
            "ROC AUC: %0.3f (+/- %0.3f) (-7.377810032263446e+16, 2.1259163875891267e+17)\n"
          ],
          "name": "stdout"
        }
      ]
    },
    {
      "cell_type": "code",
      "metadata": {
        "colab": {
          "base_uri": "https://localhost:8080/"
        },
        "id": "yx3Uc7Fgggat",
        "outputId": "c03572c5-005e-4016-dd5e-63635ce48a57"
      },
      "source": [
        "grid_randomforest.best_params_"
      ],
      "execution_count": 62,
      "outputs": [
        {
          "output_type": "execute_result",
          "data": {
            "text/plain": [
              "{'max_depth': 9, 'n_estimators': 100}"
            ]
          },
          "metadata": {
            "tags": []
          },
          "execution_count": 62
        }
      ]
    },
    {
      "cell_type": "code",
      "metadata": {
        "id": "HWpjL3aOc7fu",
        "colab": {
          "base_uri": "https://localhost:8080/"
        },
        "outputId": "b821eebb-9026-4b0b-b25b-8271c9644074"
      },
      "source": [
        "predict=grid_randomforest.predict(x_test_std)\r\n",
        "predict.shape"
      ],
      "execution_count": 69,
      "outputs": [
        {
          "output_type": "execute_result",
          "data": {
            "text/plain": [
              "(829,)"
            ]
          },
          "metadata": {
            "tags": []
          },
          "execution_count": 69
        }
      ]
    },
    {
      "cell_type": "code",
      "metadata": {
        "id": "7vfb_dW5dCAI"
      },
      "source": [
        "Auction_submission['Hammer_price']=predict\r\n",
        "Auction_submission.to_csv(\"result1.csv\",index=False)\r\n",
        "#70926123.07018\timputer:median"
      ],
      "execution_count": 70,
      "outputs": []
    }
  ]
}